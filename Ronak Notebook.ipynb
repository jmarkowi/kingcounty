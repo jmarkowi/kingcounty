{
 "cells": [
  {
   "cell_type": "code",
   "execution_count": 1,
   "id": "dfa21829",
   "metadata": {},
   "outputs": [],
   "source": [
    "import numpy as np\n",
    "import pandas as pd\n",
    "import matplotlib.pyplot as plt\n",
    "%matplotlib inline\n",
    "import scipy.stats as stats\n",
    "import statsmodels.formula.api as smf\n",
    "import statsmodels.stats.api as sms\n",
    "import statsmodels.api as sm\n",
    "from statsmodels.formula.api import ols\n",
    "from sklearn import datasets, linear_model\n",
    "import seaborn as sns\n",
    "from sklearn.metrics import r2_score\n",
    "from sklearn.linear_model import LinearRegression\n",
    "from sklearn.model_selection import train_test_split\n",
    "from statsmodels.tools.eval_measures import rmse"
   ]
  },
  {
   "cell_type": "code",
   "execution_count": 2,
   "id": "2d9d87a9",
   "metadata": {},
   "outputs": [],
   "source": [
    "raw_df = pd.read_csv('./data/kc_house_data.csv')"
   ]
  },
  {
   "cell_type": "code",
   "execution_count": 3,
   "id": "932c40c5",
   "metadata": {},
   "outputs": [],
   "source": [
    "y = raw_df['price']\n",
    "X = raw_df.drop(labels=['price'], axis=1)"
   ]
  },
  {
   "cell_type": "code",
   "execution_count": 4,
   "id": "39ebf628",
   "metadata": {},
   "outputs": [],
   "source": [
    "X_train, X_test, y_train, y_test = train_test_split(X, y, test_size=.2, random_state=5)"
   ]
  },
  {
   "cell_type": "code",
   "execution_count": 5,
   "id": "aab6634d",
   "metadata": {},
   "outputs": [],
   "source": [
    "eda_df = pd.concat([pd.DataFrame(y_train), X_train], axis=1).drop('id', axis=1).reset_index(drop=True)"
   ]
  },
  {
   "cell_type": "code",
   "execution_count": 6,
   "id": "b19ab841",
   "metadata": {},
   "outputs": [
    {
     "data": {
      "text/html": [
       "<div>\n",
       "<style scoped>\n",
       "    .dataframe tbody tr th:only-of-type {\n",
       "        vertical-align: middle;\n",
       "    }\n",
       "\n",
       "    .dataframe tbody tr th {\n",
       "        vertical-align: top;\n",
       "    }\n",
       "\n",
       "    .dataframe thead th {\n",
       "        text-align: right;\n",
       "    }\n",
       "</style>\n",
       "<table border=\"1\" class=\"dataframe\">\n",
       "  <thead>\n",
       "    <tr style=\"text-align: right;\">\n",
       "      <th></th>\n",
       "      <th>price</th>\n",
       "      <th>bedrooms</th>\n",
       "      <th>bathrooms</th>\n",
       "      <th>sqft_living</th>\n",
       "      <th>sqft_lot</th>\n",
       "      <th>floors</th>\n",
       "      <th>waterfront</th>\n",
       "      <th>view</th>\n",
       "      <th>condition</th>\n",
       "      <th>grade</th>\n",
       "      <th>sqft_above</th>\n",
       "      <th>yr_built</th>\n",
       "      <th>yr_renovated</th>\n",
       "      <th>zipcode</th>\n",
       "      <th>lat</th>\n",
       "      <th>long</th>\n",
       "      <th>sqft_living15</th>\n",
       "      <th>sqft_lot15</th>\n",
       "    </tr>\n",
       "  </thead>\n",
       "  <tbody>\n",
       "    <tr>\n",
       "      <th>count</th>\n",
       "      <td>1.727700e+04</td>\n",
       "      <td>17277.000000</td>\n",
       "      <td>17277.000000</td>\n",
       "      <td>17277.000000</td>\n",
       "      <td>1.727700e+04</td>\n",
       "      <td>17277.000000</td>\n",
       "      <td>15356.000000</td>\n",
       "      <td>17232.000000</td>\n",
       "      <td>17277.000000</td>\n",
       "      <td>17277.000000</td>\n",
       "      <td>17277.000000</td>\n",
       "      <td>17277.000000</td>\n",
       "      <td>14195.000000</td>\n",
       "      <td>17277.000000</td>\n",
       "      <td>17277.000000</td>\n",
       "      <td>17277.000000</td>\n",
       "      <td>17277.000000</td>\n",
       "      <td>17277.000000</td>\n",
       "    </tr>\n",
       "    <tr>\n",
       "      <th>mean</th>\n",
       "      <td>5.403367e+05</td>\n",
       "      <td>3.374660</td>\n",
       "      <td>2.111333</td>\n",
       "      <td>2077.266192</td>\n",
       "      <td>1.503784e+04</td>\n",
       "      <td>1.491405</td>\n",
       "      <td>0.008075</td>\n",
       "      <td>0.237291</td>\n",
       "      <td>3.411646</td>\n",
       "      <td>7.654570</td>\n",
       "      <td>1784.938357</td>\n",
       "      <td>1970.874747</td>\n",
       "      <td>83.956252</td>\n",
       "      <td>98078.032818</td>\n",
       "      <td>47.559810</td>\n",
       "      <td>-122.214703</td>\n",
       "      <td>1987.588181</td>\n",
       "      <td>12637.828500</td>\n",
       "    </tr>\n",
       "    <tr>\n",
       "      <th>std</th>\n",
       "      <td>3.686163e+05</td>\n",
       "      <td>0.931114</td>\n",
       "      <td>0.766177</td>\n",
       "      <td>915.753595</td>\n",
       "      <td>4.099151e+04</td>\n",
       "      <td>0.540391</td>\n",
       "      <td>0.089500</td>\n",
       "      <td>0.771072</td>\n",
       "      <td>0.650234</td>\n",
       "      <td>1.167855</td>\n",
       "      <td>826.015132</td>\n",
       "      <td>29.354222</td>\n",
       "      <td>400.711193</td>\n",
       "      <td>53.478216</td>\n",
       "      <td>0.138647</td>\n",
       "      <td>0.140092</td>\n",
       "      <td>685.403769</td>\n",
       "      <td>25955.985544</td>\n",
       "    </tr>\n",
       "    <tr>\n",
       "      <th>min</th>\n",
       "      <td>7.800000e+04</td>\n",
       "      <td>1.000000</td>\n",
       "      <td>0.500000</td>\n",
       "      <td>370.000000</td>\n",
       "      <td>5.200000e+02</td>\n",
       "      <td>1.000000</td>\n",
       "      <td>0.000000</td>\n",
       "      <td>0.000000</td>\n",
       "      <td>1.000000</td>\n",
       "      <td>3.000000</td>\n",
       "      <td>370.000000</td>\n",
       "      <td>1900.000000</td>\n",
       "      <td>0.000000</td>\n",
       "      <td>98001.000000</td>\n",
       "      <td>47.155900</td>\n",
       "      <td>-122.519000</td>\n",
       "      <td>399.000000</td>\n",
       "      <td>651.000000</td>\n",
       "    </tr>\n",
       "    <tr>\n",
       "      <th>25%</th>\n",
       "      <td>3.240000e+05</td>\n",
       "      <td>3.000000</td>\n",
       "      <td>1.500000</td>\n",
       "      <td>1425.000000</td>\n",
       "      <td>5.026000e+03</td>\n",
       "      <td>1.000000</td>\n",
       "      <td>0.000000</td>\n",
       "      <td>0.000000</td>\n",
       "      <td>3.000000</td>\n",
       "      <td>7.000000</td>\n",
       "      <td>1190.000000</td>\n",
       "      <td>1951.000000</td>\n",
       "      <td>0.000000</td>\n",
       "      <td>98033.000000</td>\n",
       "      <td>47.470900</td>\n",
       "      <td>-122.329000</td>\n",
       "      <td>1490.000000</td>\n",
       "      <td>5100.000000</td>\n",
       "    </tr>\n",
       "    <tr>\n",
       "      <th>50%</th>\n",
       "      <td>4.500000e+05</td>\n",
       "      <td>3.000000</td>\n",
       "      <td>2.250000</td>\n",
       "      <td>1910.000000</td>\n",
       "      <td>7.620000e+03</td>\n",
       "      <td>1.500000</td>\n",
       "      <td>0.000000</td>\n",
       "      <td>0.000000</td>\n",
       "      <td>3.000000</td>\n",
       "      <td>7.000000</td>\n",
       "      <td>1560.000000</td>\n",
       "      <td>1974.000000</td>\n",
       "      <td>0.000000</td>\n",
       "      <td>98065.000000</td>\n",
       "      <td>47.571400</td>\n",
       "      <td>-122.231000</td>\n",
       "      <td>1840.000000</td>\n",
       "      <td>7620.000000</td>\n",
       "    </tr>\n",
       "    <tr>\n",
       "      <th>75%</th>\n",
       "      <td>6.412500e+05</td>\n",
       "      <td>4.000000</td>\n",
       "      <td>2.500000</td>\n",
       "      <td>2550.000000</td>\n",
       "      <td>1.071600e+04</td>\n",
       "      <td>2.000000</td>\n",
       "      <td>0.000000</td>\n",
       "      <td>0.000000</td>\n",
       "      <td>4.000000</td>\n",
       "      <td>8.000000</td>\n",
       "      <td>2200.000000</td>\n",
       "      <td>1997.000000</td>\n",
       "      <td>0.000000</td>\n",
       "      <td>98118.000000</td>\n",
       "      <td>47.677500</td>\n",
       "      <td>-122.126000</td>\n",
       "      <td>2360.000000</td>\n",
       "      <td>10101.000000</td>\n",
       "    </tr>\n",
       "    <tr>\n",
       "      <th>max</th>\n",
       "      <td>7.700000e+06</td>\n",
       "      <td>33.000000</td>\n",
       "      <td>8.000000</td>\n",
       "      <td>13540.000000</td>\n",
       "      <td>1.651359e+06</td>\n",
       "      <td>3.500000</td>\n",
       "      <td>1.000000</td>\n",
       "      <td>4.000000</td>\n",
       "      <td>5.000000</td>\n",
       "      <td>13.000000</td>\n",
       "      <td>9410.000000</td>\n",
       "      <td>2015.000000</td>\n",
       "      <td>2015.000000</td>\n",
       "      <td>98199.000000</td>\n",
       "      <td>47.777600</td>\n",
       "      <td>-121.315000</td>\n",
       "      <td>6210.000000</td>\n",
       "      <td>560617.000000</td>\n",
       "    </tr>\n",
       "  </tbody>\n",
       "</table>\n",
       "</div>"
      ],
      "text/plain": [
       "              price      bedrooms     bathrooms   sqft_living      sqft_lot  \\\n",
       "count  1.727700e+04  17277.000000  17277.000000  17277.000000  1.727700e+04   \n",
       "mean   5.403367e+05      3.374660      2.111333   2077.266192  1.503784e+04   \n",
       "std    3.686163e+05      0.931114      0.766177    915.753595  4.099151e+04   \n",
       "min    7.800000e+04      1.000000      0.500000    370.000000  5.200000e+02   \n",
       "25%    3.240000e+05      3.000000      1.500000   1425.000000  5.026000e+03   \n",
       "50%    4.500000e+05      3.000000      2.250000   1910.000000  7.620000e+03   \n",
       "75%    6.412500e+05      4.000000      2.500000   2550.000000  1.071600e+04   \n",
       "max    7.700000e+06     33.000000      8.000000  13540.000000  1.651359e+06   \n",
       "\n",
       "             floors    waterfront          view     condition         grade  \\\n",
       "count  17277.000000  15356.000000  17232.000000  17277.000000  17277.000000   \n",
       "mean       1.491405      0.008075      0.237291      3.411646      7.654570   \n",
       "std        0.540391      0.089500      0.771072      0.650234      1.167855   \n",
       "min        1.000000      0.000000      0.000000      1.000000      3.000000   \n",
       "25%        1.000000      0.000000      0.000000      3.000000      7.000000   \n",
       "50%        1.500000      0.000000      0.000000      3.000000      7.000000   \n",
       "75%        2.000000      0.000000      0.000000      4.000000      8.000000   \n",
       "max        3.500000      1.000000      4.000000      5.000000     13.000000   \n",
       "\n",
       "         sqft_above      yr_built  yr_renovated       zipcode           lat  \\\n",
       "count  17277.000000  17277.000000  14195.000000  17277.000000  17277.000000   \n",
       "mean    1784.938357   1970.874747     83.956252  98078.032818     47.559810   \n",
       "std      826.015132     29.354222    400.711193     53.478216      0.138647   \n",
       "min      370.000000   1900.000000      0.000000  98001.000000     47.155900   \n",
       "25%     1190.000000   1951.000000      0.000000  98033.000000     47.470900   \n",
       "50%     1560.000000   1974.000000      0.000000  98065.000000     47.571400   \n",
       "75%     2200.000000   1997.000000      0.000000  98118.000000     47.677500   \n",
       "max     9410.000000   2015.000000   2015.000000  98199.000000     47.777600   \n",
       "\n",
       "               long  sqft_living15     sqft_lot15  \n",
       "count  17277.000000   17277.000000   17277.000000  \n",
       "mean    -122.214703    1987.588181   12637.828500  \n",
       "std        0.140092     685.403769   25955.985544  \n",
       "min     -122.519000     399.000000     651.000000  \n",
       "25%     -122.329000    1490.000000    5100.000000  \n",
       "50%     -122.231000    1840.000000    7620.000000  \n",
       "75%     -122.126000    2360.000000   10101.000000  \n",
       "max     -121.315000    6210.000000  560617.000000  "
      ]
     },
     "execution_count": 6,
     "metadata": {},
     "output_type": "execute_result"
    }
   ],
   "source": [
    "eda_df.describe()"
   ]
  },
  {
   "cell_type": "code",
   "execution_count": 7,
   "id": "70f92f50",
   "metadata": {},
   "outputs": [
    {
     "data": {
      "image/png": "[encoded data removed]",
      "text/plain": [
       "<Figure size 1440x1440 with 20 Axes>"
      ]
     },
     "metadata": {
      "needs_background": "light"
     },
     "output_type": "display_data"
    }
   ],
   "source": [
    "eda_df.hist(figsize=(20, 20), bins='auto');"
   ]
  },
  {
   "cell_type": "markdown",
   "id": "677c29f6",
   "metadata": {},
   "source": [
    "# Data Cleaning"
   ]
  },
  {
   "cell_type": "code",
   "execution_count": 8,
   "id": "f018450f",
   "metadata": {},
   "outputs": [
    {
     "data": {
      "text/plain": [
       "price               0\n",
       "date                0\n",
       "bedrooms            0\n",
       "bathrooms           0\n",
       "sqft_living         0\n",
       "sqft_lot            0\n",
       "floors              0\n",
       "waterfront       1921\n",
       "view               45\n",
       "condition           0\n",
       "grade               0\n",
       "sqft_above          0\n",
       "sqft_basement       0\n",
       "yr_built            0\n",
       "yr_renovated     3082\n",
       "zipcode             0\n",
       "lat                 0\n",
       "long                0\n",
       "sqft_living15       0\n",
       "sqft_lot15          0\n",
       "dtype: int64"
      ]
     },
     "execution_count": 8,
     "metadata": {},
     "output_type": "execute_result"
    }
   ],
   "source": [
    "eda_df.isnull().sum()"
   ]
  },
  {
   "cell_type": "code",
   "execution_count": 9,
   "id": "5c2ce2ec",
   "metadata": {},
   "outputs": [
    {
     "data": {
      "text/html": [
       "<div>\n",
       "<style scoped>\n",
       "    .dataframe tbody tr th:only-of-type {\n",
       "        vertical-align: middle;\n",
       "    }\n",
       "\n",
       "    .dataframe tbody tr th {\n",
       "        vertical-align: top;\n",
       "    }\n",
       "\n",
       "    .dataframe thead th {\n",
       "        text-align: right;\n",
       "    }\n",
       "</style>\n",
       "<table border=\"1\" class=\"dataframe\">\n",
       "  <thead>\n",
       "    <tr style=\"text-align: right;\">\n",
       "      <th></th>\n",
       "      <th>price</th>\n",
       "      <th>date</th>\n",
       "      <th>bedrooms</th>\n",
       "      <th>bathrooms</th>\n",
       "      <th>sqft_living</th>\n",
       "      <th>sqft_lot</th>\n",
       "      <th>floors</th>\n",
       "      <th>waterfront</th>\n",
       "      <th>view</th>\n",
       "      <th>condition</th>\n",
       "      <th>grade</th>\n",
       "      <th>sqft_above</th>\n",
       "      <th>sqft_basement</th>\n",
       "      <th>yr_built</th>\n",
       "      <th>yr_renovated</th>\n",
       "      <th>zipcode</th>\n",
       "      <th>lat</th>\n",
       "      <th>long</th>\n",
       "      <th>sqft_living15</th>\n",
       "      <th>sqft_lot15</th>\n",
       "    </tr>\n",
       "  </thead>\n",
       "  <tbody>\n",
       "    <tr>\n",
       "      <th>0</th>\n",
       "      <td>405000.0</td>\n",
       "      <td>4/3/2015</td>\n",
       "      <td>4</td>\n",
       "      <td>2.50</td>\n",
       "      <td>2620</td>\n",
       "      <td>9359</td>\n",
       "      <td>2.0</td>\n",
       "      <td>0.0</td>\n",
       "      <td>0.0</td>\n",
       "      <td>3</td>\n",
       "      <td>9</td>\n",
       "      <td>2620</td>\n",
       "      <td>0.0</td>\n",
       "      <td>1987</td>\n",
       "      <td>0.0</td>\n",
       "      <td>98058</td>\n",
       "      <td>47.4380</td>\n",
       "      <td>-122.152</td>\n",
       "      <td>2580</td>\n",
       "      <td>7433</td>\n",
       "    </tr>\n",
       "    <tr>\n",
       "      <th>1</th>\n",
       "      <td>631750.0</td>\n",
       "      <td>8/18/2014</td>\n",
       "      <td>3</td>\n",
       "      <td>1.75</td>\n",
       "      <td>2360</td>\n",
       "      <td>4063</td>\n",
       "      <td>1.0</td>\n",
       "      <td>0.0</td>\n",
       "      <td>0.0</td>\n",
       "      <td>5</td>\n",
       "      <td>7</td>\n",
       "      <td>1180</td>\n",
       "      <td>1180.0</td>\n",
       "      <td>1940</td>\n",
       "      <td>0.0</td>\n",
       "      <td>98117</td>\n",
       "      <td>47.6902</td>\n",
       "      <td>-122.382</td>\n",
       "      <td>1660</td>\n",
       "      <td>4063</td>\n",
       "    </tr>\n",
       "    <tr>\n",
       "      <th>2</th>\n",
       "      <td>452500.0</td>\n",
       "      <td>10/9/2014</td>\n",
       "      <td>3</td>\n",
       "      <td>2.50</td>\n",
       "      <td>2240</td>\n",
       "      <td>7791</td>\n",
       "      <td>2.0</td>\n",
       "      <td>0.0</td>\n",
       "      <td>0.0</td>\n",
       "      <td>3</td>\n",
       "      <td>7</td>\n",
       "      <td>2240</td>\n",
       "      <td>0.0</td>\n",
       "      <td>2002</td>\n",
       "      <td>0.0</td>\n",
       "      <td>98065</td>\n",
       "      <td>47.5361</td>\n",
       "      <td>-121.880</td>\n",
       "      <td>2480</td>\n",
       "      <td>5018</td>\n",
       "    </tr>\n",
       "    <tr>\n",
       "      <th>3</th>\n",
       "      <td>4670000.0</td>\n",
       "      <td>6/17/2014</td>\n",
       "      <td>5</td>\n",
       "      <td>6.75</td>\n",
       "      <td>9640</td>\n",
       "      <td>13068</td>\n",
       "      <td>1.0</td>\n",
       "      <td>1.0</td>\n",
       "      <td>4.0</td>\n",
       "      <td>3</td>\n",
       "      <td>12</td>\n",
       "      <td>4820</td>\n",
       "      <td>4820.0</td>\n",
       "      <td>1983</td>\n",
       "      <td>2009.0</td>\n",
       "      <td>98040</td>\n",
       "      <td>47.5570</td>\n",
       "      <td>-122.210</td>\n",
       "      <td>3270</td>\n",
       "      <td>10454</td>\n",
       "    </tr>\n",
       "    <tr>\n",
       "      <th>4</th>\n",
       "      <td>709000.0</td>\n",
       "      <td>2/24/2015</td>\n",
       "      <td>3</td>\n",
       "      <td>2.75</td>\n",
       "      <td>2780</td>\n",
       "      <td>7200</td>\n",
       "      <td>1.5</td>\n",
       "      <td>0.0</td>\n",
       "      <td>0.0</td>\n",
       "      <td>4</td>\n",
       "      <td>8</td>\n",
       "      <td>1870</td>\n",
       "      <td>910.0</td>\n",
       "      <td>1913</td>\n",
       "      <td>0.0</td>\n",
       "      <td>98118</td>\n",
       "      <td>47.5632</td>\n",
       "      <td>-122.270</td>\n",
       "      <td>1700</td>\n",
       "      <td>7200</td>\n",
       "    </tr>\n",
       "    <tr>\n",
       "      <th>...</th>\n",
       "      <td>...</td>\n",
       "      <td>...</td>\n",
       "      <td>...</td>\n",
       "      <td>...</td>\n",
       "      <td>...</td>\n",
       "      <td>...</td>\n",
       "      <td>...</td>\n",
       "      <td>...</td>\n",
       "      <td>...</td>\n",
       "      <td>...</td>\n",
       "      <td>...</td>\n",
       "      <td>...</td>\n",
       "      <td>...</td>\n",
       "      <td>...</td>\n",
       "      <td>...</td>\n",
       "      <td>...</td>\n",
       "      <td>...</td>\n",
       "      <td>...</td>\n",
       "      <td>...</td>\n",
       "      <td>...</td>\n",
       "    </tr>\n",
       "    <tr>\n",
       "      <th>17272</th>\n",
       "      <td>288000.0</td>\n",
       "      <td>7/31/2014</td>\n",
       "      <td>3</td>\n",
       "      <td>1.75</td>\n",
       "      <td>1660</td>\n",
       "      <td>10440</td>\n",
       "      <td>1.0</td>\n",
       "      <td>0.0</td>\n",
       "      <td>0.0</td>\n",
       "      <td>3</td>\n",
       "      <td>7</td>\n",
       "      <td>1040</td>\n",
       "      <td>620.0</td>\n",
       "      <td>1978</td>\n",
       "      <td>0.0</td>\n",
       "      <td>98045</td>\n",
       "      <td>47.4448</td>\n",
       "      <td>-121.770</td>\n",
       "      <td>1240</td>\n",
       "      <td>10380</td>\n",
       "    </tr>\n",
       "    <tr>\n",
       "      <th>17273</th>\n",
       "      <td>525000.0</td>\n",
       "      <td>3/13/2015</td>\n",
       "      <td>3</td>\n",
       "      <td>2.50</td>\n",
       "      <td>2200</td>\n",
       "      <td>4544</td>\n",
       "      <td>2.0</td>\n",
       "      <td>0.0</td>\n",
       "      <td>0.0</td>\n",
       "      <td>3</td>\n",
       "      <td>8</td>\n",
       "      <td>2200</td>\n",
       "      <td>0.0</td>\n",
       "      <td>2000</td>\n",
       "      <td>0.0</td>\n",
       "      <td>98065</td>\n",
       "      <td>47.5319</td>\n",
       "      <td>-121.867</td>\n",
       "      <td>2400</td>\n",
       "      <td>5431</td>\n",
       "    </tr>\n",
       "    <tr>\n",
       "      <th>17274</th>\n",
       "      <td>290000.0</td>\n",
       "      <td>7/24/2014</td>\n",
       "      <td>2</td>\n",
       "      <td>1.50</td>\n",
       "      <td>770</td>\n",
       "      <td>850</td>\n",
       "      <td>2.0</td>\n",
       "      <td>0.0</td>\n",
       "      <td>0.0</td>\n",
       "      <td>3</td>\n",
       "      <td>7</td>\n",
       "      <td>770</td>\n",
       "      <td>0.0</td>\n",
       "      <td>2006</td>\n",
       "      <td>0.0</td>\n",
       "      <td>98116</td>\n",
       "      <td>47.5644</td>\n",
       "      <td>-122.388</td>\n",
       "      <td>1350</td>\n",
       "      <td>915</td>\n",
       "    </tr>\n",
       "    <tr>\n",
       "      <th>17275</th>\n",
       "      <td>465000.0</td>\n",
       "      <td>3/27/2015</td>\n",
       "      <td>5</td>\n",
       "      <td>1.75</td>\n",
       "      <td>2000</td>\n",
       "      <td>10246</td>\n",
       "      <td>1.0</td>\n",
       "      <td>0.0</td>\n",
       "      <td>2.0</td>\n",
       "      <td>3</td>\n",
       "      <td>7</td>\n",
       "      <td>1200</td>\n",
       "      <td>800.0</td>\n",
       "      <td>1953</td>\n",
       "      <td>0.0</td>\n",
       "      <td>98178</td>\n",
       "      <td>47.5084</td>\n",
       "      <td>-122.246</td>\n",
       "      <td>2340</td>\n",
       "      <td>9030</td>\n",
       "    </tr>\n",
       "    <tr>\n",
       "      <th>17276</th>\n",
       "      <td>372000.0</td>\n",
       "      <td>12/5/2014</td>\n",
       "      <td>4</td>\n",
       "      <td>1.50</td>\n",
       "      <td>1780</td>\n",
       "      <td>7914</td>\n",
       "      <td>1.5</td>\n",
       "      <td>0.0</td>\n",
       "      <td>0.0</td>\n",
       "      <td>4</td>\n",
       "      <td>7</td>\n",
       "      <td>1780</td>\n",
       "      <td>0.0</td>\n",
       "      <td>1962</td>\n",
       "      <td>NaN</td>\n",
       "      <td>98059</td>\n",
       "      <td>47.5142</td>\n",
       "      <td>-122.163</td>\n",
       "      <td>1350</td>\n",
       "      <td>8069</td>\n",
       "    </tr>\n",
       "  </tbody>\n",
       "</table>\n",
       "<p>17277 rows × 20 columns</p>\n",
       "</div>"
      ],
      "text/plain": [
       "           price       date  bedrooms  bathrooms  sqft_living  sqft_lot  \\\n",
       "0       405000.0   4/3/2015         4       2.50         2620      9359   \n",
       "1       631750.0  8/18/2014         3       1.75         2360      4063   \n",
       "2       452500.0  10/9/2014         3       2.50         2240      7791   \n",
       "3      4670000.0  6/17/2014         5       6.75         9640     13068   \n",
       "4       709000.0  2/24/2015         3       2.75         2780      7200   \n",
       "...          ...        ...       ...        ...          ...       ...   \n",
       "17272   288000.0  7/31/2014         3       1.75         1660     10440   \n",
       "17273   525000.0  3/13/2015         3       2.50         2200      4544   \n",
       "17274   290000.0  7/24/2014         2       1.50          770       850   \n",
       "17275   465000.0  3/27/2015         5       1.75         2000     10246   \n",
       "17276   372000.0  12/5/2014         4       1.50         1780      7914   \n",
       "\n",
       "       floors  waterfront  view  condition  grade  sqft_above sqft_basement  \\\n",
       "0         2.0         0.0   0.0          3      9        2620           0.0   \n",
       "1         1.0         0.0   0.0          5      7        1180        1180.0   \n",
       "2         2.0         0.0   0.0          3      7        2240           0.0   \n",
       "3         1.0         1.0   4.0          3     12        4820        4820.0   \n",
       "4         1.5         0.0   0.0          4      8        1870         910.0   \n",
       "...       ...         ...   ...        ...    ...         ...           ...   \n",
       "17272     1.0         0.0   0.0          3      7        1040         620.0   \n",
       "17273     2.0         0.0   0.0          3      8        2200           0.0   \n",
       "17274     2.0         0.0   0.0          3      7         770           0.0   \n",
       "17275     1.0         0.0   2.0          3      7        1200         800.0   \n",
       "17276     1.5         0.0   0.0          4      7        1780           0.0   \n",
       "\n",
       "       yr_built  yr_renovated  zipcode      lat     long  sqft_living15  \\\n",
       "0          1987           0.0    98058  47.4380 -122.152           2580   \n",
       "1          1940           0.0    98117  47.6902 -122.382           1660   \n",
       "2          2002           0.0    98065  47.5361 -121.880           2480   \n",
       "3          1983        2009.0    98040  47.5570 -122.210           3270   \n",
       "4          1913           0.0    98118  47.5632 -122.270           1700   \n",
       "...         ...           ...      ...      ...      ...            ...   \n",
       "17272      1978           0.0    98045  47.4448 -121.770           1240   \n",
       "17273      2000           0.0    98065  47.5319 -121.867           2400   \n",
       "17274      2006           0.0    98116  47.5644 -122.388           1350   \n",
       "17275      1953           0.0    98178  47.5084 -122.246           2340   \n",
       "17276      1962           NaN    98059  47.5142 -122.163           1350   \n",
       "\n",
       "       sqft_lot15  \n",
       "0            7433  \n",
       "1            4063  \n",
       "2            5018  \n",
       "3           10454  \n",
       "4            7200  \n",
       "...           ...  \n",
       "17272       10380  \n",
       "17273        5431  \n",
       "17274         915  \n",
       "17275        9030  \n",
       "17276        8069  \n",
       "\n",
       "[17277 rows x 20 columns]"
      ]
     },
     "execution_count": 9,
     "metadata": {},
     "output_type": "execute_result"
    }
   ],
   "source": [
    "eda_df"
   ]
  },
  {
   "cell_type": "code",
   "execution_count": 10,
   "id": "de40c959",
   "metadata": {},
   "outputs": [],
   "source": [
    "new_df = eda_df"
   ]
  },
  {
   "cell_type": "code",
   "execution_count": 11,
   "id": "364dfffb",
   "metadata": {},
   "outputs": [],
   "source": [
    "new_df.drop('yr_renovated', axis=1, inplace=True)"
   ]
  },
  {
   "cell_type": "code",
   "execution_count": 12,
   "id": "8e903de0",
   "metadata": {},
   "outputs": [],
   "source": [
    "new_df.drop('date', axis=1, inplace=True)"
   ]
  },
  {
   "cell_type": "code",
   "execution_count": 13,
   "id": "6b6927f9",
   "metadata": {},
   "outputs": [],
   "source": [
    "new_df.drop('sqft_basement', axis=1, inplace = True)"
   ]
  },
  {
   "cell_type": "code",
   "execution_count": 14,
   "id": "9f84e0c8",
   "metadata": {},
   "outputs": [],
   "source": [
    "new_df['waterfront'].fillna(0, inplace=True)"
   ]
  },
  {
   "cell_type": "code",
   "execution_count": 15,
   "id": "9c430031",
   "metadata": {},
   "outputs": [],
   "source": [
    "new_df.drop('view', axis=1, inplace=True)"
   ]
  },
  {
   "cell_type": "code",
   "execution_count": 16,
   "id": "2927f58b",
   "metadata": {},
   "outputs": [
    {
     "data": {
      "text/plain": [
       "price            0\n",
       "bedrooms         0\n",
       "bathrooms        0\n",
       "sqft_living      0\n",
       "sqft_lot         0\n",
       "floors           0\n",
       "waterfront       0\n",
       "condition        0\n",
       "grade            0\n",
       "sqft_above       0\n",
       "yr_built         0\n",
       "zipcode          0\n",
       "lat              0\n",
       "long             0\n",
       "sqft_living15    0\n",
       "sqft_lot15       0\n",
       "dtype: int64"
      ]
     },
     "execution_count": 16,
     "metadata": {},
     "output_type": "execute_result"
    }
   ],
   "source": [
    "new_df.isnull().sum()"
   ]
  },
  {
   "cell_type": "code",
   "execution_count": 17,
   "id": "54b23a74",
   "metadata": {},
   "outputs": [
    {
     "data": {
      "text/html": [
       "<div>\n",
       "<style scoped>\n",
       "    .dataframe tbody tr th:only-of-type {\n",
       "        vertical-align: middle;\n",
       "    }\n",
       "\n",
       "    .dataframe tbody tr th {\n",
       "        vertical-align: top;\n",
       "    }\n",
       "\n",
       "    .dataframe thead th {\n",
       "        text-align: right;\n",
       "    }\n",
       "</style>\n",
       "<table border=\"1\" class=\"dataframe\">\n",
       "  <thead>\n",
       "    <tr style=\"text-align: right;\">\n",
       "      <th></th>\n",
       "      <th>price</th>\n",
       "      <th>bedrooms</th>\n",
       "      <th>bathrooms</th>\n",
       "      <th>sqft_living</th>\n",
       "      <th>sqft_lot</th>\n",
       "      <th>floors</th>\n",
       "      <th>waterfront</th>\n",
       "      <th>condition</th>\n",
       "      <th>grade</th>\n",
       "      <th>sqft_above</th>\n",
       "      <th>yr_built</th>\n",
       "      <th>zipcode</th>\n",
       "      <th>lat</th>\n",
       "      <th>long</th>\n",
       "      <th>sqft_living15</th>\n",
       "      <th>sqft_lot15</th>\n",
       "    </tr>\n",
       "  </thead>\n",
       "  <tbody>\n",
       "    <tr>\n",
       "      <th>0</th>\n",
       "      <td>405000.0</td>\n",
       "      <td>4</td>\n",
       "      <td>2.50</td>\n",
       "      <td>2620</td>\n",
       "      <td>9359</td>\n",
       "      <td>2.0</td>\n",
       "      <td>0.0</td>\n",
       "      <td>3</td>\n",
       "      <td>9</td>\n",
       "      <td>2620</td>\n",
       "      <td>1987</td>\n",
       "      <td>98058</td>\n",
       "      <td>47.4380</td>\n",
       "      <td>-122.152</td>\n",
       "      <td>2580</td>\n",
       "      <td>7433</td>\n",
       "    </tr>\n",
       "    <tr>\n",
       "      <th>1</th>\n",
       "      <td>631750.0</td>\n",
       "      <td>3</td>\n",
       "      <td>1.75</td>\n",
       "      <td>2360</td>\n",
       "      <td>4063</td>\n",
       "      <td>1.0</td>\n",
       "      <td>0.0</td>\n",
       "      <td>5</td>\n",
       "      <td>7</td>\n",
       "      <td>1180</td>\n",
       "      <td>1940</td>\n",
       "      <td>98117</td>\n",
       "      <td>47.6902</td>\n",
       "      <td>-122.382</td>\n",
       "      <td>1660</td>\n",
       "      <td>4063</td>\n",
       "    </tr>\n",
       "    <tr>\n",
       "      <th>2</th>\n",
       "      <td>452500.0</td>\n",
       "      <td>3</td>\n",
       "      <td>2.50</td>\n",
       "      <td>2240</td>\n",
       "      <td>7791</td>\n",
       "      <td>2.0</td>\n",
       "      <td>0.0</td>\n",
       "      <td>3</td>\n",
       "      <td>7</td>\n",
       "      <td>2240</td>\n",
       "      <td>2002</td>\n",
       "      <td>98065</td>\n",
       "      <td>47.5361</td>\n",
       "      <td>-121.880</td>\n",
       "      <td>2480</td>\n",
       "      <td>5018</td>\n",
       "    </tr>\n",
       "    <tr>\n",
       "      <th>3</th>\n",
       "      <td>4670000.0</td>\n",
       "      <td>5</td>\n",
       "      <td>6.75</td>\n",
       "      <td>9640</td>\n",
       "      <td>13068</td>\n",
       "      <td>1.0</td>\n",
       "      <td>1.0</td>\n",
       "      <td>3</td>\n",
       "      <td>12</td>\n",
       "      <td>4820</td>\n",
       "      <td>1983</td>\n",
       "      <td>98040</td>\n",
       "      <td>47.5570</td>\n",
       "      <td>-122.210</td>\n",
       "      <td>3270</td>\n",
       "      <td>10454</td>\n",
       "    </tr>\n",
       "    <tr>\n",
       "      <th>4</th>\n",
       "      <td>709000.0</td>\n",
       "      <td>3</td>\n",
       "      <td>2.75</td>\n",
       "      <td>2780</td>\n",
       "      <td>7200</td>\n",
       "      <td>1.5</td>\n",
       "      <td>0.0</td>\n",
       "      <td>4</td>\n",
       "      <td>8</td>\n",
       "      <td>1870</td>\n",
       "      <td>1913</td>\n",
       "      <td>98118</td>\n",
       "      <td>47.5632</td>\n",
       "      <td>-122.270</td>\n",
       "      <td>1700</td>\n",
       "      <td>7200</td>\n",
       "    </tr>\n",
       "    <tr>\n",
       "      <th>...</th>\n",
       "      <td>...</td>\n",
       "      <td>...</td>\n",
       "      <td>...</td>\n",
       "      <td>...</td>\n",
       "      <td>...</td>\n",
       "      <td>...</td>\n",
       "      <td>...</td>\n",
       "      <td>...</td>\n",
       "      <td>...</td>\n",
       "      <td>...</td>\n",
       "      <td>...</td>\n",
       "      <td>...</td>\n",
       "      <td>...</td>\n",
       "      <td>...</td>\n",
       "      <td>...</td>\n",
       "      <td>...</td>\n",
       "    </tr>\n",
       "    <tr>\n",
       "      <th>17272</th>\n",
       "      <td>288000.0</td>\n",
       "      <td>3</td>\n",
       "      <td>1.75</td>\n",
       "      <td>1660</td>\n",
       "      <td>10440</td>\n",
       "      <td>1.0</td>\n",
       "      <td>0.0</td>\n",
       "      <td>3</td>\n",
       "      <td>7</td>\n",
       "      <td>1040</td>\n",
       "      <td>1978</td>\n",
       "      <td>98045</td>\n",
       "      <td>47.4448</td>\n",
       "      <td>-121.770</td>\n",
       "      <td>1240</td>\n",
       "      <td>10380</td>\n",
       "    </tr>\n",
       "    <tr>\n",
       "      <th>17273</th>\n",
       "      <td>525000.0</td>\n",
       "      <td>3</td>\n",
       "      <td>2.50</td>\n",
       "      <td>2200</td>\n",
       "      <td>4544</td>\n",
       "      <td>2.0</td>\n",
       "      <td>0.0</td>\n",
       "      <td>3</td>\n",
       "      <td>8</td>\n",
       "      <td>2200</td>\n",
       "      <td>2000</td>\n",
       "      <td>98065</td>\n",
       "      <td>47.5319</td>\n",
       "      <td>-121.867</td>\n",
       "      <td>2400</td>\n",
       "      <td>5431</td>\n",
       "    </tr>\n",
       "    <tr>\n",
       "      <th>17274</th>\n",
       "      <td>290000.0</td>\n",
       "      <td>2</td>\n",
       "      <td>1.50</td>\n",
       "      <td>770</td>\n",
       "      <td>850</td>\n",
       "      <td>2.0</td>\n",
       "      <td>0.0</td>\n",
       "      <td>3</td>\n",
       "      <td>7</td>\n",
       "      <td>770</td>\n",
       "      <td>2006</td>\n",
       "      <td>98116</td>\n",
       "      <td>47.5644</td>\n",
       "      <td>-122.388</td>\n",
       "      <td>1350</td>\n",
       "      <td>915</td>\n",
       "    </tr>\n",
       "    <tr>\n",
       "      <th>17275</th>\n",
       "      <td>465000.0</td>\n",
       "      <td>5</td>\n",
       "      <td>1.75</td>\n",
       "      <td>2000</td>\n",
       "      <td>10246</td>\n",
       "      <td>1.0</td>\n",
       "      <td>0.0</td>\n",
       "      <td>3</td>\n",
       "      <td>7</td>\n",
       "      <td>1200</td>\n",
       "      <td>1953</td>\n",
       "      <td>98178</td>\n",
       "      <td>47.5084</td>\n",
       "      <td>-122.246</td>\n",
       "      <td>2340</td>\n",
       "      <td>9030</td>\n",
       "    </tr>\n",
       "    <tr>\n",
       "      <th>17276</th>\n",
       "      <td>372000.0</td>\n",
       "      <td>4</td>\n",
       "      <td>1.50</td>\n",
       "      <td>1780</td>\n",
       "      <td>7914</td>\n",
       "      <td>1.5</td>\n",
       "      <td>0.0</td>\n",
       "      <td>4</td>\n",
       "      <td>7</td>\n",
       "      <td>1780</td>\n",
       "      <td>1962</td>\n",
       "      <td>98059</td>\n",
       "      <td>47.5142</td>\n",
       "      <td>-122.163</td>\n",
       "      <td>1350</td>\n",
       "      <td>8069</td>\n",
       "    </tr>\n",
       "  </tbody>\n",
       "</table>\n",
       "<p>17277 rows × 16 columns</p>\n",
       "</div>"
      ],
      "text/plain": [
       "           price  bedrooms  bathrooms  sqft_living  sqft_lot  floors  \\\n",
       "0       405000.0         4       2.50         2620      9359     2.0   \n",
       "1       631750.0         3       1.75         2360      4063     1.0   \n",
       "2       452500.0         3       2.50         2240      7791     2.0   \n",
       "3      4670000.0         5       6.75         9640     13068     1.0   \n",
       "4       709000.0         3       2.75         2780      7200     1.5   \n",
       "...          ...       ...        ...          ...       ...     ...   \n",
       "17272   288000.0         3       1.75         1660     10440     1.0   \n",
       "17273   525000.0         3       2.50         2200      4544     2.0   \n",
       "17274   290000.0         2       1.50          770       850     2.0   \n",
       "17275   465000.0         5       1.75         2000     10246     1.0   \n",
       "17276   372000.0         4       1.50         1780      7914     1.5   \n",
       "\n",
       "       waterfront  condition  grade  sqft_above  yr_built  zipcode      lat  \\\n",
       "0             0.0          3      9        2620      1987    98058  47.4380   \n",
       "1             0.0          5      7        1180      1940    98117  47.6902   \n",
       "2             0.0          3      7        2240      2002    98065  47.5361   \n",
       "3             1.0          3     12        4820      1983    98040  47.5570   \n",
       "4             0.0          4      8        1870      1913    98118  47.5632   \n",
       "...           ...        ...    ...         ...       ...      ...      ...   \n",
       "17272         0.0          3      7        1040      1978    98045  47.4448   \n",
       "17273         0.0          3      8        2200      2000    98065  47.5319   \n",
       "17274         0.0          3      7         770      2006    98116  47.5644   \n",
       "17275         0.0          3      7        1200      1953    98178  47.5084   \n",
       "17276         0.0          4      7        1780      1962    98059  47.5142   \n",
       "\n",
       "          long  sqft_living15  sqft_lot15  \n",
       "0     -122.152           2580        7433  \n",
       "1     -122.382           1660        4063  \n",
       "2     -121.880           2480        5018  \n",
       "3     -122.210           3270       10454  \n",
       "4     -122.270           1700        7200  \n",
       "...        ...            ...         ...  \n",
       "17272 -121.770           1240       10380  \n",
       "17273 -121.867           2400        5431  \n",
       "17274 -122.388           1350         915  \n",
       "17275 -122.246           2340        9030  \n",
       "17276 -122.163           1350        8069  \n",
       "\n",
       "[17277 rows x 16 columns]"
      ]
     },
     "execution_count": 17,
     "metadata": {},
     "output_type": "execute_result"
    }
   ],
   "source": [
    "new_df"
   ]
  },
  {
   "cell_type": "code",
   "execution_count": 18,
   "id": "4014e373",
   "metadata": {},
   "outputs": [],
   "source": [
    "columns = ['price', 'bedrooms', 'bathrooms', 'sqft_living',\n",
    "       'sqft_lot', 'floors', 'grade',\n",
    "       'sqft_above', 'yr_built', 'sqft_living15', 'sqft_lot15']"
   ]
  },
  {
   "cell_type": "code",
   "execution_count": 19,
   "id": "3bdd8e38",
   "metadata": {},
   "outputs": [],
   "source": [
    "new2_df = new_df[columns]"
   ]
  },
  {
   "cell_type": "code",
   "execution_count": 20,
   "id": "8c740978",
   "metadata": {},
   "outputs": [
    {
     "data": {
      "text/html": [
       "<div>\n",
       "<style scoped>\n",
       "    .dataframe tbody tr th:only-of-type {\n",
       "        vertical-align: middle;\n",
       "    }\n",
       "\n",
       "    .dataframe tbody tr th {\n",
       "        vertical-align: top;\n",
       "    }\n",
       "\n",
       "    .dataframe thead th {\n",
       "        text-align: right;\n",
       "    }\n",
       "</style>\n",
       "<table border=\"1\" class=\"dataframe\">\n",
       "  <thead>\n",
       "    <tr style=\"text-align: right;\">\n",
       "      <th></th>\n",
       "      <th>price</th>\n",
       "      <th>bedrooms</th>\n",
       "      <th>bathrooms</th>\n",
       "      <th>sqft_living</th>\n",
       "      <th>sqft_lot</th>\n",
       "      <th>floors</th>\n",
       "      <th>grade</th>\n",
       "      <th>sqft_above</th>\n",
       "      <th>yr_built</th>\n",
       "      <th>sqft_living15</th>\n",
       "      <th>sqft_lot15</th>\n",
       "    </tr>\n",
       "  </thead>\n",
       "  <tbody>\n",
       "    <tr>\n",
       "      <th>0</th>\n",
       "      <td>405000.0</td>\n",
       "      <td>4</td>\n",
       "      <td>2.50</td>\n",
       "      <td>2620</td>\n",
       "      <td>9359</td>\n",
       "      <td>2.0</td>\n",
       "      <td>9</td>\n",
       "      <td>2620</td>\n",
       "      <td>1987</td>\n",
       "      <td>2580</td>\n",
       "      <td>7433</td>\n",
       "    </tr>\n",
       "    <tr>\n",
       "      <th>1</th>\n",
       "      <td>631750.0</td>\n",
       "      <td>3</td>\n",
       "      <td>1.75</td>\n",
       "      <td>2360</td>\n",
       "      <td>4063</td>\n",
       "      <td>1.0</td>\n",
       "      <td>7</td>\n",
       "      <td>1180</td>\n",
       "      <td>1940</td>\n",
       "      <td>1660</td>\n",
       "      <td>4063</td>\n",
       "    </tr>\n",
       "    <tr>\n",
       "      <th>2</th>\n",
       "      <td>452500.0</td>\n",
       "      <td>3</td>\n",
       "      <td>2.50</td>\n",
       "      <td>2240</td>\n",
       "      <td>7791</td>\n",
       "      <td>2.0</td>\n",
       "      <td>7</td>\n",
       "      <td>2240</td>\n",
       "      <td>2002</td>\n",
       "      <td>2480</td>\n",
       "      <td>5018</td>\n",
       "    </tr>\n",
       "    <tr>\n",
       "      <th>3</th>\n",
       "      <td>4670000.0</td>\n",
       "      <td>5</td>\n",
       "      <td>6.75</td>\n",
       "      <td>9640</td>\n",
       "      <td>13068</td>\n",
       "      <td>1.0</td>\n",
       "      <td>12</td>\n",
       "      <td>4820</td>\n",
       "      <td>1983</td>\n",
       "      <td>3270</td>\n",
       "      <td>10454</td>\n",
       "    </tr>\n",
       "    <tr>\n",
       "      <th>4</th>\n",
       "      <td>709000.0</td>\n",
       "      <td>3</td>\n",
       "      <td>2.75</td>\n",
       "      <td>2780</td>\n",
       "      <td>7200</td>\n",
       "      <td>1.5</td>\n",
       "      <td>8</td>\n",
       "      <td>1870</td>\n",
       "      <td>1913</td>\n",
       "      <td>1700</td>\n",
       "      <td>7200</td>\n",
       "    </tr>\n",
       "    <tr>\n",
       "      <th>...</th>\n",
       "      <td>...</td>\n",
       "      <td>...</td>\n",
       "      <td>...</td>\n",
       "      <td>...</td>\n",
       "      <td>...</td>\n",
       "      <td>...</td>\n",
       "      <td>...</td>\n",
       "      <td>...</td>\n",
       "      <td>...</td>\n",
       "      <td>...</td>\n",
       "      <td>...</td>\n",
       "    </tr>\n",
       "    <tr>\n",
       "      <th>17272</th>\n",
       "      <td>288000.0</td>\n",
       "      <td>3</td>\n",
       "      <td>1.75</td>\n",
       "      <td>1660</td>\n",
       "      <td>10440</td>\n",
       "      <td>1.0</td>\n",
       "      <td>7</td>\n",
       "      <td>1040</td>\n",
       "      <td>1978</td>\n",
       "      <td>1240</td>\n",
       "      <td>10380</td>\n",
       "    </tr>\n",
       "    <tr>\n",
       "      <th>17273</th>\n",
       "      <td>525000.0</td>\n",
       "      <td>3</td>\n",
       "      <td>2.50</td>\n",
       "      <td>2200</td>\n",
       "      <td>4544</td>\n",
       "      <td>2.0</td>\n",
       "      <td>8</td>\n",
       "      <td>2200</td>\n",
       "      <td>2000</td>\n",
       "      <td>2400</td>\n",
       "      <td>5431</td>\n",
       "    </tr>\n",
       "    <tr>\n",
       "      <th>17274</th>\n",
       "      <td>290000.0</td>\n",
       "      <td>2</td>\n",
       "      <td>1.50</td>\n",
       "      <td>770</td>\n",
       "      <td>850</td>\n",
       "      <td>2.0</td>\n",
       "      <td>7</td>\n",
       "      <td>770</td>\n",
       "      <td>2006</td>\n",
       "      <td>1350</td>\n",
       "      <td>915</td>\n",
       "    </tr>\n",
       "    <tr>\n",
       "      <th>17275</th>\n",
       "      <td>465000.0</td>\n",
       "      <td>5</td>\n",
       "      <td>1.75</td>\n",
       "      <td>2000</td>\n",
       "      <td>10246</td>\n",
       "      <td>1.0</td>\n",
       "      <td>7</td>\n",
       "      <td>1200</td>\n",
       "      <td>1953</td>\n",
       "      <td>2340</td>\n",
       "      <td>9030</td>\n",
       "    </tr>\n",
       "    <tr>\n",
       "      <th>17276</th>\n",
       "      <td>372000.0</td>\n",
       "      <td>4</td>\n",
       "      <td>1.50</td>\n",
       "      <td>1780</td>\n",
       "      <td>7914</td>\n",
       "      <td>1.5</td>\n",
       "      <td>7</td>\n",
       "      <td>1780</td>\n",
       "      <td>1962</td>\n",
       "      <td>1350</td>\n",
       "      <td>8069</td>\n",
       "    </tr>\n",
       "  </tbody>\n",
       "</table>\n",
       "<p>17277 rows × 11 columns</p>\n",
       "</div>"
      ],
      "text/plain": [
       "           price  bedrooms  bathrooms  sqft_living  sqft_lot  floors  grade  \\\n",
       "0       405000.0         4       2.50         2620      9359     2.0      9   \n",
       "1       631750.0         3       1.75         2360      4063     1.0      7   \n",
       "2       452500.0         3       2.50         2240      7791     2.0      7   \n",
       "3      4670000.0         5       6.75         9640     13068     1.0     12   \n",
       "4       709000.0         3       2.75         2780      7200     1.5      8   \n",
       "...          ...       ...        ...          ...       ...     ...    ...   \n",
       "17272   288000.0         3       1.75         1660     10440     1.0      7   \n",
       "17273   525000.0         3       2.50         2200      4544     2.0      8   \n",
       "17274   290000.0         2       1.50          770       850     2.0      7   \n",
       "17275   465000.0         5       1.75         2000     10246     1.0      7   \n",
       "17276   372000.0         4       1.50         1780      7914     1.5      7   \n",
       "\n",
       "       sqft_above  yr_built  sqft_living15  sqft_lot15  \n",
       "0            2620      1987           2580        7433  \n",
       "1            1180      1940           1660        4063  \n",
       "2            2240      2002           2480        5018  \n",
       "3            4820      1983           3270       10454  \n",
       "4            1870      1913           1700        7200  \n",
       "...           ...       ...            ...         ...  \n",
       "17272        1040      1978           1240       10380  \n",
       "17273        2200      2000           2400        5431  \n",
       "17274         770      2006           1350         915  \n",
       "17275        1200      1953           2340        9030  \n",
       "17276        1780      1962           1350        8069  \n",
       "\n",
       "[17277 rows x 11 columns]"
      ]
     },
     "execution_count": 20,
     "metadata": {},
     "output_type": "execute_result"
    }
   ],
   "source": [
    "new2_df"
   ]
  },
  {
   "cell_type": "code",
   "execution_count": 21,
   "id": "48a975f5",
   "metadata": {},
   "outputs": [],
   "source": [
    "new_df = new2_df"
   ]
  },
  {
   "cell_type": "code",
   "execution_count": 22,
   "id": "033612b0",
   "metadata": {},
   "outputs": [
    {
     "data": {
      "text/html": [
       "<div>\n",
       "<style scoped>\n",
       "    .dataframe tbody tr th:only-of-type {\n",
       "        vertical-align: middle;\n",
       "    }\n",
       "\n",
       "    .dataframe tbody tr th {\n",
       "        vertical-align: top;\n",
       "    }\n",
       "\n",
       "    .dataframe thead th {\n",
       "        text-align: right;\n",
       "    }\n",
       "</style>\n",
       "<table border=\"1\" class=\"dataframe\">\n",
       "  <thead>\n",
       "    <tr style=\"text-align: right;\">\n",
       "      <th></th>\n",
       "      <th>price</th>\n",
       "      <th>bedrooms</th>\n",
       "      <th>bathrooms</th>\n",
       "      <th>sqft_living</th>\n",
       "      <th>sqft_lot</th>\n",
       "      <th>floors</th>\n",
       "      <th>grade</th>\n",
       "      <th>sqft_above</th>\n",
       "      <th>yr_built</th>\n",
       "      <th>sqft_living15</th>\n",
       "      <th>sqft_lot15</th>\n",
       "    </tr>\n",
       "  </thead>\n",
       "  <tbody>\n",
       "    <tr>\n",
       "      <th>0</th>\n",
       "      <td>405000.0</td>\n",
       "      <td>4</td>\n",
       "      <td>2.50</td>\n",
       "      <td>2620</td>\n",
       "      <td>9359</td>\n",
       "      <td>2.0</td>\n",
       "      <td>9</td>\n",
       "      <td>2620</td>\n",
       "      <td>1987</td>\n",
       "      <td>2580</td>\n",
       "      <td>7433</td>\n",
       "    </tr>\n",
       "    <tr>\n",
       "      <th>1</th>\n",
       "      <td>631750.0</td>\n",
       "      <td>3</td>\n",
       "      <td>1.75</td>\n",
       "      <td>2360</td>\n",
       "      <td>4063</td>\n",
       "      <td>1.0</td>\n",
       "      <td>7</td>\n",
       "      <td>1180</td>\n",
       "      <td>1940</td>\n",
       "      <td>1660</td>\n",
       "      <td>4063</td>\n",
       "    </tr>\n",
       "    <tr>\n",
       "      <th>2</th>\n",
       "      <td>452500.0</td>\n",
       "      <td>3</td>\n",
       "      <td>2.50</td>\n",
       "      <td>2240</td>\n",
       "      <td>7791</td>\n",
       "      <td>2.0</td>\n",
       "      <td>7</td>\n",
       "      <td>2240</td>\n",
       "      <td>2002</td>\n",
       "      <td>2480</td>\n",
       "      <td>5018</td>\n",
       "    </tr>\n",
       "    <tr>\n",
       "      <th>3</th>\n",
       "      <td>4670000.0</td>\n",
       "      <td>5</td>\n",
       "      <td>6.75</td>\n",
       "      <td>9640</td>\n",
       "      <td>13068</td>\n",
       "      <td>1.0</td>\n",
       "      <td>12</td>\n",
       "      <td>4820</td>\n",
       "      <td>1983</td>\n",
       "      <td>3270</td>\n",
       "      <td>10454</td>\n",
       "    </tr>\n",
       "    <tr>\n",
       "      <th>4</th>\n",
       "      <td>709000.0</td>\n",
       "      <td>3</td>\n",
       "      <td>2.75</td>\n",
       "      <td>2780</td>\n",
       "      <td>7200</td>\n",
       "      <td>1.5</td>\n",
       "      <td>8</td>\n",
       "      <td>1870</td>\n",
       "      <td>1913</td>\n",
       "      <td>1700</td>\n",
       "      <td>7200</td>\n",
       "    </tr>\n",
       "    <tr>\n",
       "      <th>...</th>\n",
       "      <td>...</td>\n",
       "      <td>...</td>\n",
       "      <td>...</td>\n",
       "      <td>...</td>\n",
       "      <td>...</td>\n",
       "      <td>...</td>\n",
       "      <td>...</td>\n",
       "      <td>...</td>\n",
       "      <td>...</td>\n",
       "      <td>...</td>\n",
       "      <td>...</td>\n",
       "    </tr>\n",
       "    <tr>\n",
       "      <th>17272</th>\n",
       "      <td>288000.0</td>\n",
       "      <td>3</td>\n",
       "      <td>1.75</td>\n",
       "      <td>1660</td>\n",
       "      <td>10440</td>\n",
       "      <td>1.0</td>\n",
       "      <td>7</td>\n",
       "      <td>1040</td>\n",
       "      <td>1978</td>\n",
       "      <td>1240</td>\n",
       "      <td>10380</td>\n",
       "    </tr>\n",
       "    <tr>\n",
       "      <th>17273</th>\n",
       "      <td>525000.0</td>\n",
       "      <td>3</td>\n",
       "      <td>2.50</td>\n",
       "      <td>2200</td>\n",
       "      <td>4544</td>\n",
       "      <td>2.0</td>\n",
       "      <td>8</td>\n",
       "      <td>2200</td>\n",
       "      <td>2000</td>\n",
       "      <td>2400</td>\n",
       "      <td>5431</td>\n",
       "    </tr>\n",
       "    <tr>\n",
       "      <th>17274</th>\n",
       "      <td>290000.0</td>\n",
       "      <td>2</td>\n",
       "      <td>1.50</td>\n",
       "      <td>770</td>\n",
       "      <td>850</td>\n",
       "      <td>2.0</td>\n",
       "      <td>7</td>\n",
       "      <td>770</td>\n",
       "      <td>2006</td>\n",
       "      <td>1350</td>\n",
       "      <td>915</td>\n",
       "    </tr>\n",
       "    <tr>\n",
       "      <th>17275</th>\n",
       "      <td>465000.0</td>\n",
       "      <td>5</td>\n",
       "      <td>1.75</td>\n",
       "      <td>2000</td>\n",
       "      <td>10246</td>\n",
       "      <td>1.0</td>\n",
       "      <td>7</td>\n",
       "      <td>1200</td>\n",
       "      <td>1953</td>\n",
       "      <td>2340</td>\n",
       "      <td>9030</td>\n",
       "    </tr>\n",
       "    <tr>\n",
       "      <th>17276</th>\n",
       "      <td>372000.0</td>\n",
       "      <td>4</td>\n",
       "      <td>1.50</td>\n",
       "      <td>1780</td>\n",
       "      <td>7914</td>\n",
       "      <td>1.5</td>\n",
       "      <td>7</td>\n",
       "      <td>1780</td>\n",
       "      <td>1962</td>\n",
       "      <td>1350</td>\n",
       "      <td>8069</td>\n",
       "    </tr>\n",
       "  </tbody>\n",
       "</table>\n",
       "<p>17277 rows × 11 columns</p>\n",
       "</div>"
      ],
      "text/plain": [
       "           price  bedrooms  bathrooms  sqft_living  sqft_lot  floors  grade  \\\n",
       "0       405000.0         4       2.50         2620      9359     2.0      9   \n",
       "1       631750.0         3       1.75         2360      4063     1.0      7   \n",
       "2       452500.0         3       2.50         2240      7791     2.0      7   \n",
       "3      4670000.0         5       6.75         9640     13068     1.0     12   \n",
       "4       709000.0         3       2.75         2780      7200     1.5      8   \n",
       "...          ...       ...        ...          ...       ...     ...    ...   \n",
       "17272   288000.0         3       1.75         1660     10440     1.0      7   \n",
       "17273   525000.0         3       2.50         2200      4544     2.0      8   \n",
       "17274   290000.0         2       1.50          770       850     2.0      7   \n",
       "17275   465000.0         5       1.75         2000     10246     1.0      7   \n",
       "17276   372000.0         4       1.50         1780      7914     1.5      7   \n",
       "\n",
       "       sqft_above  yr_built  sqft_living15  sqft_lot15  \n",
       "0            2620      1987           2580        7433  \n",
       "1            1180      1940           1660        4063  \n",
       "2            2240      2002           2480        5018  \n",
       "3            4820      1983           3270       10454  \n",
       "4            1870      1913           1700        7200  \n",
       "...           ...       ...            ...         ...  \n",
       "17272        1040      1978           1240       10380  \n",
       "17273        2200      2000           2400        5431  \n",
       "17274         770      2006           1350         915  \n",
       "17275        1200      1953           2340        9030  \n",
       "17276        1780      1962           1350        8069  \n",
       "\n",
       "[17277 rows x 11 columns]"
      ]
     },
     "execution_count": 22,
     "metadata": {},
     "output_type": "execute_result"
    }
   ],
   "source": [
    "new_df"
   ]
  },
  {
   "cell_type": "code",
   "execution_count": 23,
   "id": "3b00e4f3",
   "metadata": {},
   "outputs": [
    {
     "data": {
      "text/plain": [
       "<AxesSubplot:>"
      ]
     },
     "execution_count": 23,
     "metadata": {},
     "output_type": "execute_result"
    },
    {
     "data": {
      "image/png": "[encoded data removed]",
      "text/plain": [
       "<Figure size 1224x864 with 2 Axes>"
      ]
     },
     "metadata": {
      "needs_background": "light"
     },
     "output_type": "display_data"
    }
   ],
   "source": [
    "corr = new_df.corr().abs()\n",
    "fig, ax=plt.subplots(figsize=(17,12))\n",
    "fig.suptitle('Variable Correlations', fontsize=30, y=.95)\n",
    "heatmap = sns.heatmap(corr, annot=True)\n",
    "heatmap"
   ]
  },
  {
   "cell_type": "markdown",
   "id": "532090a6",
   "metadata": {},
   "source": [
    "# Correlations"
   ]
  },
  {
   "cell_type": "code",
   "execution_count": 24,
   "id": "ff31bcb2",
   "metadata": {},
   "outputs": [],
   "source": [
    "feat = []\n",
    "corrs = []\n",
    "for xy, correlation in corr['price'].T.iteritems():\n",
    "    if correlation >= .49 and xy != 'price':\n",
    "        feat.append(xy)\n",
    "        corrs.append(correlation)\n",
    "corr_price_df = pd.DataFrame({'Correlations':corrs, 'Features': feat}).sort_values(by=['Correlations'], ascending=False)"
   ]
  },
  {
   "cell_type": "code",
   "execution_count": 25,
   "id": "dbe7a745",
   "metadata": {},
   "outputs": [],
   "source": [
    "multicoll_feat = []\n",
    "multicoll_corr = []\n",
    "def multi_corr(f):\n",
    "    for xy, correlation in corr[f].T.iteritems():\n",
    "        if correlation >= .80 and xy != f:\n",
    "            multicoll_feat.append([f, xy])\n",
    "            multicoll_corr.append(correlation)\n",
    "            \n",
    "for feat in corr:\n",
    "    multi_corr(feat)\n",
    "MC_df = pd.DataFrame({'Correlations':multicoll_corr, 'Features': multicoll_feat}).sort_values(by=['Correlations'], ascending=False)"
   ]
  },
  {
   "cell_type": "code",
   "execution_count": 26,
   "id": "24ccbf1c",
   "metadata": {},
   "outputs": [
    {
     "data": {
      "text/html": [
       "<div>\n",
       "<style scoped>\n",
       "    .dataframe tbody tr th:only-of-type {\n",
       "        vertical-align: middle;\n",
       "    }\n",
       "\n",
       "    .dataframe tbody tr th {\n",
       "        vertical-align: top;\n",
       "    }\n",
       "\n",
       "    .dataframe thead th {\n",
       "        text-align: right;\n",
       "    }\n",
       "</style>\n",
       "<table border=\"1\" class=\"dataframe\">\n",
       "  <thead>\n",
       "    <tr style=\"text-align: right;\">\n",
       "      <th></th>\n",
       "      <th>Correlations</th>\n",
       "      <th>Features</th>\n",
       "    </tr>\n",
       "  </thead>\n",
       "  <tbody>\n",
       "    <tr>\n",
       "      <th>1</th>\n",
       "      <td>0.700923</td>\n",
       "      <td>sqft_living</td>\n",
       "    </tr>\n",
       "    <tr>\n",
       "      <th>2</th>\n",
       "      <td>0.664625</td>\n",
       "      <td>grade</td>\n",
       "    </tr>\n",
       "    <tr>\n",
       "      <th>3</th>\n",
       "      <td>0.604636</td>\n",
       "      <td>sqft_above</td>\n",
       "    </tr>\n",
       "    <tr>\n",
       "      <th>4</th>\n",
       "      <td>0.585330</td>\n",
       "      <td>sqft_living15</td>\n",
       "    </tr>\n",
       "    <tr>\n",
       "      <th>0</th>\n",
       "      <td>0.525356</td>\n",
       "      <td>bathrooms</td>\n",
       "    </tr>\n",
       "  </tbody>\n",
       "</table>\n",
       "</div>"
      ],
      "text/plain": [
       "   Correlations       Features\n",
       "1      0.700923    sqft_living\n",
       "2      0.664625          grade\n",
       "3      0.604636     sqft_above\n",
       "4      0.585330  sqft_living15\n",
       "0      0.525356      bathrooms"
      ]
     },
     "metadata": {},
     "output_type": "display_data"
    },
    {
     "data": {
      "text/html": [
       "<div>\n",
       "<style scoped>\n",
       "    .dataframe tbody tr th:only-of-type {\n",
       "        vertical-align: middle;\n",
       "    }\n",
       "\n",
       "    .dataframe tbody tr th {\n",
       "        vertical-align: top;\n",
       "    }\n",
       "\n",
       "    .dataframe thead th {\n",
       "        text-align: right;\n",
       "    }\n",
       "</style>\n",
       "<table border=\"1\" class=\"dataframe\">\n",
       "  <thead>\n",
       "    <tr style=\"text-align: right;\">\n",
       "      <th></th>\n",
       "      <th>Correlations</th>\n",
       "      <th>Features</th>\n",
       "    </tr>\n",
       "  </thead>\n",
       "  <tbody>\n",
       "    <tr>\n",
       "      <th>0</th>\n",
       "      <td>0.87628</td>\n",
       "      <td>[sqft_living, sqft_above]</td>\n",
       "    </tr>\n",
       "    <tr>\n",
       "      <th>1</th>\n",
       "      <td>0.87628</td>\n",
       "      <td>[sqft_above, sqft_living]</td>\n",
       "    </tr>\n",
       "  </tbody>\n",
       "</table>\n",
       "</div>"
      ],
      "text/plain": [
       "   Correlations                   Features\n",
       "0       0.87628  [sqft_living, sqft_above]\n",
       "1       0.87628  [sqft_above, sqft_living]"
      ]
     },
     "metadata": {},
     "output_type": "display_data"
    }
   ],
   "source": [
    "display(corr_price_df)\n",
    "display(MC_df)"
   ]
  },
  {
   "cell_type": "markdown",
   "id": "b4ece553",
   "metadata": {},
   "source": [
    "## Baseline Model"
   ]
  },
  {
   "cell_type": "code",
   "execution_count": 27,
   "id": "d9440206",
   "metadata": {},
   "outputs": [
    {
     "data": {
      "text/plain": [
       "<matplotlib.collections.PathCollection at 0x185c18767c0>"
      ]
     },
     "execution_count": 27,
     "metadata": {},
     "output_type": "execute_result"
    },
    {
     "data": {
      "image/png": "[encoded data removed]",
      "text/plain": [
       "<Figure size 432x288 with 1 Axes>"
      ]
     },
     "metadata": {
      "needs_background": "light"
     },
     "output_type": "display_data"
    }
   ],
   "source": [
    "plt.scatter(x=new_df.sqft_living, y=new_df.price)"
   ]
  },
  {
   "cell_type": "code",
   "execution_count": 28,
   "id": "9355d792",
   "metadata": {},
   "outputs": [
    {
     "data": {
      "text/html": [
       "<table class=\"simpletable\">\n",
       "<caption>OLS Regression Results</caption>\n",
       "<tr>\n",
       "  <th>Dep. Variable:</th>          <td>price</td>      <th>  R-squared:         </th>  <td>   0.491</td>  \n",
       "</tr>\n",
       "<tr>\n",
       "  <th>Model:</th>                   <td>OLS</td>       <th>  Adj. R-squared:    </th>  <td>   0.491</td>  \n",
       "</tr>\n",
       "<tr>\n",
       "  <th>Method:</th>             <td>Least Squares</td>  <th>  F-statistic:       </th>  <td>1.668e+04</td> \n",
       "</tr>\n",
       "<tr>\n",
       "  <th>Date:</th>             <td>Wed, 25 Aug 2021</td> <th>  Prob (F-statistic):</th>   <td>  0.00</td>   \n",
       "</tr>\n",
       "<tr>\n",
       "  <th>Time:</th>                 <td>12:00:03</td>     <th>  Log-Likelihood:    </th> <td>-2.4012e+05</td>\n",
       "</tr>\n",
       "<tr>\n",
       "  <th>No. Observations:</th>      <td> 17277</td>      <th>  AIC:               </th>  <td>4.803e+05</td> \n",
       "</tr>\n",
       "<tr>\n",
       "  <th>Df Residuals:</th>          <td> 17275</td>      <th>  BIC:               </th>  <td>4.803e+05</td> \n",
       "</tr>\n",
       "<tr>\n",
       "  <th>Df Model:</th>              <td>     1</td>      <th>                     </th>      <td> </td>     \n",
       "</tr>\n",
       "<tr>\n",
       "  <th>Covariance Type:</th>      <td>nonrobust</td>    <th>                     </th>      <td> </td>     \n",
       "</tr>\n",
       "</table>\n",
       "<table class=\"simpletable\">\n",
       "<tr>\n",
       "       <td></td>          <th>coef</th>     <th>std err</th>      <th>t</th>      <th>P>|t|</th>  <th>[0.025</th>    <th>0.975]</th>  \n",
       "</tr>\n",
       "<tr>\n",
       "  <th>Intercept</th>   <td>-4.574e+04</td> <td> 4958.793</td> <td>   -9.225</td> <td> 0.000</td> <td>-5.55e+04</td> <td> -3.6e+04</td>\n",
       "</tr>\n",
       "<tr>\n",
       "  <th>sqft_living</th> <td>  282.1408</td> <td>    2.184</td> <td>  129.165</td> <td> 0.000</td> <td>  277.859</td> <td>  286.422</td>\n",
       "</tr>\n",
       "</table>\n",
       "<table class=\"simpletable\">\n",
       "<tr>\n",
       "  <th>Omnibus:</th>       <td>12090.176</td> <th>  Durbin-Watson:     </th>  <td>   1.996</td> \n",
       "</tr>\n",
       "<tr>\n",
       "  <th>Prob(Omnibus):</th>  <td> 0.000</td>   <th>  Jarque-Bera (JB):  </th> <td>474100.489</td>\n",
       "</tr>\n",
       "<tr>\n",
       "  <th>Skew:</th>           <td> 2.885</td>   <th>  Prob(JB):          </th>  <td>    0.00</td> \n",
       "</tr>\n",
       "<tr>\n",
       "  <th>Kurtosis:</th>       <td>28.006</td>   <th>  Cond. No.          </th>  <td>5.63e+03</td> \n",
       "</tr>\n",
       "</table><br/><br/>Notes:<br/>[1] Standard Errors assume that the covariance matrix of the errors is correctly specified.<br/>[2] The condition number is large, 5.63e+03. This might indicate that there are<br/>strong multicollinearity or other numerical problems."
      ],
      "text/plain": [
       "<class 'statsmodels.iolib.summary.Summary'>\n",
       "\"\"\"\n",
       "                            OLS Regression Results                            \n",
       "==============================================================================\n",
       "Dep. Variable:                  price   R-squared:                       0.491\n",
       "Model:                            OLS   Adj. R-squared:                  0.491\n",
       "Method:                 Least Squares   F-statistic:                 1.668e+04\n",
       "Date:                Wed, 25 Aug 2021   Prob (F-statistic):               0.00\n",
       "Time:                        12:00:03   Log-Likelihood:            -2.4012e+05\n",
       "No. Observations:               17277   AIC:                         4.803e+05\n",
       "Df Residuals:                   17275   BIC:                         4.803e+05\n",
       "Df Model:                           1                                         \n",
       "Covariance Type:            nonrobust                                         \n",
       "===============================================================================\n",
       "                  coef    std err          t      P>|t|      [0.025      0.975]\n",
       "-------------------------------------------------------------------------------\n",
       "Intercept   -4.574e+04   4958.793     -9.225      0.000   -5.55e+04    -3.6e+04\n",
       "sqft_living   282.1408      2.184    129.165      0.000     277.859     286.422\n",
       "==============================================================================\n",
       "Omnibus:                    12090.176   Durbin-Watson:                   1.996\n",
       "Prob(Omnibus):                  0.000   Jarque-Bera (JB):           474100.489\n",
       "Skew:                           2.885   Prob(JB):                         0.00\n",
       "Kurtosis:                      28.006   Cond. No.                     5.63e+03\n",
       "==============================================================================\n",
       "\n",
       "Notes:\n",
       "[1] Standard Errors assume that the covariance matrix of the errors is correctly specified.\n",
       "[2] The condition number is large, 5.63e+03. This might indicate that there are\n",
       "strong multicollinearity or other numerical problems.\n",
       "\"\"\""
      ]
     },
     "execution_count": 28,
     "metadata": {},
     "output_type": "execute_result"
    }
   ],
   "source": [
    "baseline_model = sm.formula.ols(formula='price ~ sqft_living', data=eda_df).fit()\n",
    "\n",
    "baseline_model.summary()"
   ]
  },
  {
   "cell_type": "code",
   "execution_count": 29,
   "id": "9d9c8054",
   "metadata": {},
   "outputs": [
    {
     "name": "stdout",
     "output_type": "stream",
     "text": [
      "Baseline rmse on training data:  262903.341514918\n",
      "Baseline rmse on testing data:   256623.15488963886\n"
     ]
    }
   ],
   "source": [
    "\n",
    "y_train_preds = baseline_model.predict(new_df)\n",
    "y_test_preds = baseline_model.predict(X_test)\n",
    "baseline_train_rmse = rmse(y_train_preds, y_train)\n",
    "baseline_test_rmse = rmse(y_test_preds, y_test)\n",
    "\n",
    "print('Baseline rmse on training data: ', baseline_train_rmse)\n",
    "print('Baseline rmse on testing data:  ', baseline_test_rmse)"
   ]
  },
  {
   "cell_type": "markdown",
   "id": "94ddbd9f",
   "metadata": {},
   "source": [
    "### Highest Correlated with Prices"
   ]
  },
  {
   "cell_type": "code",
   "execution_count": 30,
   "id": "a5c8cd6b",
   "metadata": {},
   "outputs": [
    {
     "data": {
      "text/plain": [
       "<matplotlib.collections.PathCollection at 0x185c3393370>"
      ]
     },
     "execution_count": 30,
     "metadata": {},
     "output_type": "execute_result"
    },
    {
     "data": {
      "image/png": "[encoded data removed]",
      "text/plain": [
       "<Figure size 432x288 with 1 Axes>"
      ]
     },
     "metadata": {
      "needs_background": "light"
     },
     "output_type": "display_data"
    }
   ],
   "source": [
    "plt.scatter(x=new_df.grade, y=new_df.price)"
   ]
  },
  {
   "cell_type": "code",
   "execution_count": 31,
   "id": "0c335060",
   "metadata": {},
   "outputs": [
    {
     "data": {
      "text/plain": [
       "<matplotlib.collections.PathCollection at 0x185c33d7b80>"
      ]
     },
     "execution_count": 31,
     "metadata": {},
     "output_type": "execute_result"
    },
    {
     "data": {
      "image/png": "[encoded data removed]",
      "text/plain": [
       "<Figure size 432x288 with 1 Axes>"
      ]
     },
     "metadata": {
      "needs_background": "light"
     },
     "output_type": "display_data"
    }
   ],
   "source": [
    "plt.scatter(x=new_df.sqft_living15, y=new_df.price)"
   ]
  },
  {
   "cell_type": "code",
   "execution_count": 32,
   "id": "51ee8af6",
   "metadata": {},
   "outputs": [
    {
     "data": {
      "text/plain": [
       "<matplotlib.collections.PathCollection at 0x185c3699970>"
      ]
     },
     "execution_count": 32,
     "metadata": {},
     "output_type": "execute_result"
    },
    {
     "data": {
      "image/png": "[encoded data removed]",
      "text/plain": [
       "<Figure size 432x288 with 1 Axes>"
      ]
     },
     "metadata": {
      "needs_background": "light"
     },
     "output_type": "display_data"
    }
   ],
   "source": [
    "plt.scatter(x=new_df.sqft_above, y=new_df.price)"
   ]
  },
  {
   "cell_type": "code",
   "execution_count": 33,
   "id": "d57f1d03",
   "metadata": {},
   "outputs": [
    {
     "data": {
      "text/plain": [
       "<matplotlib.collections.PathCollection at 0x185c197d460>"
      ]
     },
     "execution_count": 33,
     "metadata": {},
     "output_type": "execute_result"
    },
    {
     "data": {
      "image/png": "[encoded data removed]",
      "text/plain": [
       "<Figure size 432x288 with 1 Axes>"
      ]
     },
     "metadata": {
      "needs_background": "light"
     },
     "output_type": "display_data"
    }
   ],
   "source": [
    "plt.scatter(x=new_df.bathrooms, y=new_df.price)"
   ]
  },
  {
   "cell_type": "markdown",
   "id": "1eac9aee",
   "metadata": {},
   "source": [
    "# Check for normality"
   ]
  },
  {
   "cell_type": "code",
   "execution_count": 34,
   "id": "7e13aab1",
   "metadata": {},
   "outputs": [],
   "source": [
    "def model_diagnostic(model):\n",
    "    \n",
    "    res = model.resid\n",
    "    sm.graphics.qqplot(res, dist=stats.norm, line='45', fit=True)    \n",
    "    plt.show;"
   ]
  },
  {
   "cell_type": "code",
   "execution_count": 35,
   "id": "b9ef740c",
   "metadata": {},
   "outputs": [
    {
     "data": {
      "image/png": "[encoded data removed]",
      "text/plain": [
       "<Figure size 432x288 with 1 Axes>"
      ]
     },
     "metadata": {
      "needs_background": "light"
     },
     "output_type": "display_data"
    }
   ],
   "source": [
    "f = 'price~sqft_living'\n",
    "sqft_living_model = smf.ols(formula=f, data=new_df).fit()\n",
    "model_diagnostic(sqft_living_model)"
   ]
  },
  {
   "cell_type": "code",
   "execution_count": 36,
   "id": "58de18dc",
   "metadata": {},
   "outputs": [
    {
     "name": "stderr",
     "output_type": "stream",
     "text": [
      "C:\\Users\\ronak\\anaconda3\\lib\\site-packages\\pandas\\core\\frame.py:3607: SettingWithCopyWarning: \n",
      "A value is trying to be set on a copy of a slice from a DataFrame.\n",
      "Try using .loc[row_indexer,col_indexer] = value instead\n",
      "\n",
      "See the caveats in the documentation: https://pandas.pydata.org/pandas-docs/stable/user_guide/indexing.html#returning-a-view-versus-a-copy\n",
      "  self._set_item(key, value)\n"
     ]
    }
   ],
   "source": [
    "new_df['price'] = np.log(new_df['price'])\n",
    "new_df['sqft_living'] = np.log(new_df['sqft_living'])"
   ]
  },
  {
   "cell_type": "code",
   "execution_count": 37,
   "id": "f28119ce",
   "metadata": {},
   "outputs": [
    {
     "data": {
      "image/png": "[encoded data removed]",
      "text/plain": [
       "<Figure size 432x288 with 1 Axes>"
      ]
     },
     "metadata": {
      "needs_background": "light"
     },
     "output_type": "display_data"
    }
   ],
   "source": [
    "f = 'price~sqft_living'\n",
    "sqft_living_model = smf.ols(formula=f, data=new_df).fit()\n",
    "model_diagnostic(sqft_living_model)"
   ]
  },
  {
   "cell_type": "code",
   "execution_count": 38,
   "id": "3c8a3ac9",
   "metadata": {},
   "outputs": [
    {
     "data": {
      "image/png": "[encoded data removed]",
      "text/plain": [
       "<Figure size 432x288 with 1 Axes>"
      ]
     },
     "metadata": {
      "needs_background": "light"
     },
     "output_type": "display_data"
    }
   ],
   "source": [
    "f = 'price~sqft_living15'\n",
    "sqft_living_model = smf.ols(formula=f, data=new_df).fit()\n",
    "model_diagnostic(sqft_living_model)"
   ]
  },
  {
   "cell_type": "code",
   "execution_count": 39,
   "id": "5d63a94d",
   "metadata": {},
   "outputs": [
    {
     "data": {
      "image/png": "[encoded data removed]",
      "text/plain": [
       "<Figure size 432x288 with 1 Axes>"
      ]
     },
     "metadata": {
      "needs_background": "light"
     },
     "output_type": "display_data"
    }
   ],
   "source": [
    "f = 'price~grade'\n",
    "sqft_living_model = smf.ols(formula=f, data=new_df).fit()\n",
    "model_diagnostic(sqft_living_model)"
   ]
  },
  {
   "cell_type": "code",
   "execution_count": 40,
   "id": "5b1e5c85",
   "metadata": {},
   "outputs": [
    {
     "data": {
      "image/png": "[encoded data removed]",
      "text/plain": [
       "<Figure size 432x288 with 1 Axes>"
      ]
     },
     "metadata": {
      "needs_background": "light"
     },
     "output_type": "display_data"
    }
   ],
   "source": [
    "f = 'price~bathrooms'\n",
    "sqft_living_model = smf.ols(formula=f, data=new_df).fit()\n",
    "model_diagnostic(sqft_living_model)"
   ]
  },
  {
   "cell_type": "markdown",
   "id": "105620b9",
   "metadata": {},
   "source": [
    "# Multiple Regression"
   ]
  },
  {
   "cell_type": "markdown",
   "id": "f030381d",
   "metadata": {},
   "source": [
    "The variables that had the highest correlations with price "
   ]
  },
  {
   "cell_type": "code",
   "execution_count": 41,
   "id": "3f57624c",
   "metadata": {},
   "outputs": [
    {
     "data": {
      "text/html": [
       "<table class=\"simpletable\">\n",
       "<caption>OLS Regression Results</caption>\n",
       "<tr>\n",
       "  <th>Dep. Variable:</th>          <td>price</td>      <th>  R-squared:         </th> <td>   0.549</td> \n",
       "</tr>\n",
       "<tr>\n",
       "  <th>Model:</th>                   <td>OLS</td>       <th>  Adj. R-squared:    </th> <td>   0.549</td> \n",
       "</tr>\n",
       "<tr>\n",
       "  <th>Method:</th>             <td>Least Squares</td>  <th>  F-statistic:       </th> <td>   5267.</td> \n",
       "</tr>\n",
       "<tr>\n",
       "  <th>Date:</th>             <td>Wed, 25 Aug 2021</td> <th>  Prob (F-statistic):</th>  <td>  0.00</td>  \n",
       "</tr>\n",
       "<tr>\n",
       "  <th>Time:</th>                 <td>12:00:05</td>     <th>  Log-Likelihood:    </th> <td> -6519.0</td> \n",
       "</tr>\n",
       "<tr>\n",
       "  <th>No. Observations:</th>      <td> 17277</td>      <th>  AIC:               </th> <td>1.305e+04</td>\n",
       "</tr>\n",
       "<tr>\n",
       "  <th>Df Residuals:</th>          <td> 17272</td>      <th>  BIC:               </th> <td>1.309e+04</td>\n",
       "</tr>\n",
       "<tr>\n",
       "  <th>Df Model:</th>              <td>     4</td>      <th>                     </th>     <td> </td>    \n",
       "</tr>\n",
       "<tr>\n",
       "  <th>Covariance Type:</th>      <td>nonrobust</td>    <th>                     </th>     <td> </td>    \n",
       "</tr>\n",
       "</table>\n",
       "<table class=\"simpletable\">\n",
       "<tr>\n",
       "        <td></td>           <th>coef</th>     <th>std err</th>      <th>t</th>      <th>P>|t|</th>  <th>[0.025</th>    <th>0.975]</th>  \n",
       "</tr>\n",
       "<tr>\n",
       "  <th>Intercept</th>     <td>    8.7733</td> <td>    0.077</td> <td>  114.004</td> <td> 0.000</td> <td>    8.622</td> <td>    8.924</td>\n",
       "</tr>\n",
       "<tr>\n",
       "  <th>grade</th>         <td>    0.1838</td> <td>    0.004</td> <td>   48.416</td> <td> 0.000</td> <td>    0.176</td> <td>    0.191</td>\n",
       "</tr>\n",
       "<tr>\n",
       "  <th>bathrooms</th>     <td>   -0.0085</td> <td>    0.006</td> <td>   -1.522</td> <td> 0.128</td> <td>   -0.019</td> <td>    0.002</td>\n",
       "</tr>\n",
       "<tr>\n",
       "  <th>sqft_living15</th> <td> 9.419e-05</td> <td> 6.26e-06</td> <td>   15.037</td> <td> 0.000</td> <td> 8.19e-05</td> <td>    0.000</td>\n",
       "</tr>\n",
       "<tr>\n",
       "  <th>sqft_living</th>   <td>    0.3575</td> <td>    0.012</td> <td>   28.989</td> <td> 0.000</td> <td>    0.333</td> <td>    0.382</td>\n",
       "</tr>\n",
       "</table>\n",
       "<table class=\"simpletable\">\n",
       "<tr>\n",
       "  <th>Omnibus:</th>       <td>86.750</td> <th>  Durbin-Watson:     </th> <td>   1.999</td>\n",
       "</tr>\n",
       "<tr>\n",
       "  <th>Prob(Omnibus):</th> <td> 0.000</td> <th>  Jarque-Bera (JB):  </th> <td>  81.201</td>\n",
       "</tr>\n",
       "<tr>\n",
       "  <th>Skew:</th>          <td> 0.137</td> <th>  Prob(JB):          </th> <td>2.33e-18</td>\n",
       "</tr>\n",
       "<tr>\n",
       "  <th>Kurtosis:</th>      <td> 2.806</td> <th>  Cond. No.          </th> <td>6.10e+04</td>\n",
       "</tr>\n",
       "</table><br/><br/>Notes:<br/>[1] Standard Errors assume that the covariance matrix of the errors is correctly specified.<br/>[2] The condition number is large, 6.1e+04. This might indicate that there are<br/>strong multicollinearity or other numerical problems."
      ],
      "text/plain": [
       "<class 'statsmodels.iolib.summary.Summary'>\n",
       "\"\"\"\n",
       "                            OLS Regression Results                            \n",
       "==============================================================================\n",
       "Dep. Variable:                  price   R-squared:                       0.549\n",
       "Model:                            OLS   Adj. R-squared:                  0.549\n",
       "Method:                 Least Squares   F-statistic:                     5267.\n",
       "Date:                Wed, 25 Aug 2021   Prob (F-statistic):               0.00\n",
       "Time:                        12:00:05   Log-Likelihood:                -6519.0\n",
       "No. Observations:               17277   AIC:                         1.305e+04\n",
       "Df Residuals:                   17272   BIC:                         1.309e+04\n",
       "Df Model:                           4                                         \n",
       "Covariance Type:            nonrobust                                         \n",
       "=================================================================================\n",
       "                    coef    std err          t      P>|t|      [0.025      0.975]\n",
       "---------------------------------------------------------------------------------\n",
       "Intercept         8.7733      0.077    114.004      0.000       8.622       8.924\n",
       "grade             0.1838      0.004     48.416      0.000       0.176       0.191\n",
       "bathrooms        -0.0085      0.006     -1.522      0.128      -0.019       0.002\n",
       "sqft_living15  9.419e-05   6.26e-06     15.037      0.000    8.19e-05       0.000\n",
       "sqft_living       0.3575      0.012     28.989      0.000       0.333       0.382\n",
       "==============================================================================\n",
       "Omnibus:                       86.750   Durbin-Watson:                   1.999\n",
       "Prob(Omnibus):                  0.000   Jarque-Bera (JB):               81.201\n",
       "Skew:                           0.137   Prob(JB):                     2.33e-18\n",
       "Kurtosis:                       2.806   Cond. No.                     6.10e+04\n",
       "==============================================================================\n",
       "\n",
       "Notes:\n",
       "[1] Standard Errors assume that the covariance matrix of the errors is correctly specified.\n",
       "[2] The condition number is large, 6.1e+04. This might indicate that there are\n",
       "strong multicollinearity or other numerical problems.\n",
       "\"\"\""
      ]
     },
     "execution_count": 41,
     "metadata": {},
     "output_type": "execute_result"
    }
   ],
   "source": [
    "m1 = smf.ols(formula=\"price ~ grade + bathrooms + sqft_living15  + sqft_living\", data=new_df).fit()\n",
    "m1.summary()"
   ]
  },
  {
   "cell_type": "code",
   "execution_count": 42,
   "id": "8eacbe46",
   "metadata": {},
   "outputs": [
    {
     "data": {
      "text/html": [
       "<table class=\"simpletable\">\n",
       "<caption>OLS Regression Results</caption>\n",
       "<tr>\n",
       "  <th>Dep. Variable:</th>          <td>price</td>      <th>  R-squared:         </th> <td>   0.544</td> \n",
       "</tr>\n",
       "<tr>\n",
       "  <th>Model:</th>                   <td>OLS</td>       <th>  Adj. R-squared:    </th> <td>   0.544</td> \n",
       "</tr>\n",
       "<tr>\n",
       "  <th>Method:</th>             <td>Least Squares</td>  <th>  F-statistic:       </th> <td>   6858.</td> \n",
       "</tr>\n",
       "<tr>\n",
       "  <th>Date:</th>             <td>Wed, 25 Aug 2021</td> <th>  Prob (F-statistic):</th>  <td>  0.00</td>  \n",
       "</tr>\n",
       "<tr>\n",
       "  <th>Time:</th>                 <td>12:00:05</td>     <th>  Log-Likelihood:    </th> <td> -6631.4</td> \n",
       "</tr>\n",
       "<tr>\n",
       "  <th>No. Observations:</th>      <td> 17277</td>      <th>  AIC:               </th> <td>1.327e+04</td>\n",
       "</tr>\n",
       "<tr>\n",
       "  <th>Df Residuals:</th>          <td> 17273</td>      <th>  BIC:               </th> <td>1.330e+04</td>\n",
       "</tr>\n",
       "<tr>\n",
       "  <th>Df Model:</th>              <td>     3</td>      <th>                     </th>     <td> </td>    \n",
       "</tr>\n",
       "<tr>\n",
       "  <th>Covariance Type:</th>      <td>nonrobust</td>    <th>                     </th>     <td> </td>    \n",
       "</tr>\n",
       "</table>\n",
       "<table class=\"simpletable\">\n",
       "<tr>\n",
       "       <td></td>          <th>coef</th>     <th>std err</th>      <th>t</th>      <th>P>|t|</th>  <th>[0.025</th>    <th>0.975]</th>  \n",
       "</tr>\n",
       "<tr>\n",
       "  <th>Intercept</th>   <td>    8.2297</td> <td>    0.068</td> <td>  120.355</td> <td> 0.000</td> <td>    8.096</td> <td>    8.364</td>\n",
       "</tr>\n",
       "<tr>\n",
       "  <th>grade</th>       <td>    0.2049</td> <td>    0.004</td> <td>   57.739</td> <td> 0.000</td> <td>    0.198</td> <td>    0.212</td>\n",
       "</tr>\n",
       "<tr>\n",
       "  <th>bathrooms</th>   <td>   -0.0139</td> <td>    0.006</td> <td>   -2.483</td> <td> 0.013</td> <td>   -0.025</td> <td>   -0.003</td>\n",
       "</tr>\n",
       "<tr>\n",
       "  <th>sqft_living</th> <td>    0.4344</td> <td>    0.011</td> <td>   38.458</td> <td> 0.000</td> <td>    0.412</td> <td>    0.457</td>\n",
       "</tr>\n",
       "</table>\n",
       "<table class=\"simpletable\">\n",
       "<tr>\n",
       "  <th>Omnibus:</th>       <td>87.524</td> <th>  Durbin-Watson:     </th> <td>   2.001</td>\n",
       "</tr>\n",
       "<tr>\n",
       "  <th>Prob(Omnibus):</th> <td> 0.000</td> <th>  Jarque-Bera (JB):  </th> <td>  88.388</td>\n",
       "</tr>\n",
       "<tr>\n",
       "  <th>Skew:</th>          <td> 0.171</td> <th>  Prob(JB):          </th> <td>6.41e-20</td>\n",
       "</tr>\n",
       "<tr>\n",
       "  <th>Kurtosis:</th>      <td> 2.921</td> <th>  Cond. No.          </th> <td>    284.</td>\n",
       "</tr>\n",
       "</table><br/><br/>Notes:<br/>[1] Standard Errors assume that the covariance matrix of the errors is correctly specified."
      ],
      "text/plain": [
       "<class 'statsmodels.iolib.summary.Summary'>\n",
       "\"\"\"\n",
       "                            OLS Regression Results                            \n",
       "==============================================================================\n",
       "Dep. Variable:                  price   R-squared:                       0.544\n",
       "Model:                            OLS   Adj. R-squared:                  0.544\n",
       "Method:                 Least Squares   F-statistic:                     6858.\n",
       "Date:                Wed, 25 Aug 2021   Prob (F-statistic):               0.00\n",
       "Time:                        12:00:05   Log-Likelihood:                -6631.4\n",
       "No. Observations:               17277   AIC:                         1.327e+04\n",
       "Df Residuals:                   17273   BIC:                         1.330e+04\n",
       "Df Model:                           3                                         \n",
       "Covariance Type:            nonrobust                                         \n",
       "===============================================================================\n",
       "                  coef    std err          t      P>|t|      [0.025      0.975]\n",
       "-------------------------------------------------------------------------------\n",
       "Intercept       8.2297      0.068    120.355      0.000       8.096       8.364\n",
       "grade           0.2049      0.004     57.739      0.000       0.198       0.212\n",
       "bathrooms      -0.0139      0.006     -2.483      0.013      -0.025      -0.003\n",
       "sqft_living     0.4344      0.011     38.458      0.000       0.412       0.457\n",
       "==============================================================================\n",
       "Omnibus:                       87.524   Durbin-Watson:                   2.001\n",
       "Prob(Omnibus):                  0.000   Jarque-Bera (JB):               88.388\n",
       "Skew:                           0.171   Prob(JB):                     6.41e-20\n",
       "Kurtosis:                       2.921   Cond. No.                         284.\n",
       "==============================================================================\n",
       "\n",
       "Notes:\n",
       "[1] Standard Errors assume that the covariance matrix of the errors is correctly specified.\n",
       "\"\"\""
      ]
     },
     "execution_count": 42,
     "metadata": {},
     "output_type": "execute_result"
    }
   ],
   "source": [
    "m2 = smf.ols(formula=\"price ~ grade + bathrooms + sqft_living\", data=new_df).fit()\n",
    "m2.summary()"
   ]
  },
  {
   "cell_type": "code",
   "execution_count": 43,
   "id": "99f44e0e",
   "metadata": {},
   "outputs": [
    {
     "data": {
      "text/html": [
       "<table class=\"simpletable\">\n",
       "<caption>OLS Regression Results</caption>\n",
       "<tr>\n",
       "  <th>Dep. Variable:</th>          <td>price</td>      <th>  R-squared:         </th> <td>   0.528</td> \n",
       "</tr>\n",
       "<tr>\n",
       "  <th>Model:</th>                   <td>OLS</td>       <th>  Adj. R-squared:    </th> <td>   0.527</td> \n",
       "</tr>\n",
       "<tr>\n",
       "  <th>Method:</th>             <td>Least Squares</td>  <th>  F-statistic:       </th> <td>   6430.</td> \n",
       "</tr>\n",
       "<tr>\n",
       "  <th>Date:</th>             <td>Wed, 25 Aug 2021</td> <th>  Prob (F-statistic):</th>  <td>  0.00</td>  \n",
       "</tr>\n",
       "<tr>\n",
       "  <th>Time:</th>                 <td>12:00:05</td>     <th>  Log-Likelihood:    </th> <td> -6929.4</td> \n",
       "</tr>\n",
       "<tr>\n",
       "  <th>No. Observations:</th>      <td> 17277</td>      <th>  AIC:               </th> <td>1.387e+04</td>\n",
       "</tr>\n",
       "<tr>\n",
       "  <th>Df Residuals:</th>          <td> 17273</td>      <th>  BIC:               </th> <td>1.390e+04</td>\n",
       "</tr>\n",
       "<tr>\n",
       "  <th>Df Model:</th>              <td>     3</td>      <th>                     </th>     <td> </td>    \n",
       "</tr>\n",
       "<tr>\n",
       "  <th>Covariance Type:</th>      <td>nonrobust</td>    <th>                     </th>     <td> </td>    \n",
       "</tr>\n",
       "</table>\n",
       "<table class=\"simpletable\">\n",
       "<tr>\n",
       "        <td></td>           <th>coef</th>     <th>std err</th>      <th>t</th>      <th>P>|t|</th>  <th>[0.025</th>    <th>0.975]</th>  \n",
       "</tr>\n",
       "<tr>\n",
       "  <th>Intercept</th>     <td>   10.9305</td> <td>    0.020</td> <td>  544.238</td> <td> 0.000</td> <td>   10.891</td> <td>   10.970</td>\n",
       "</tr>\n",
       "<tr>\n",
       "  <th>grade</th>         <td>    0.2120</td> <td>    0.004</td> <td>   56.405</td> <td> 0.000</td> <td>    0.205</td> <td>    0.219</td>\n",
       "</tr>\n",
       "<tr>\n",
       "  <th>bathrooms</th>     <td>    0.0751</td> <td>    0.005</td> <td>   15.301</td> <td> 0.000</td> <td>    0.065</td> <td>    0.085</td>\n",
       "</tr>\n",
       "<tr>\n",
       "  <th>sqft_living15</th> <td>    0.0002</td> <td> 5.84e-06</td> <td>   29.036</td> <td> 0.000</td> <td>    0.000</td> <td>    0.000</td>\n",
       "</tr>\n",
       "</table>\n",
       "<table class=\"simpletable\">\n",
       "<tr>\n",
       "  <th>Omnibus:</th>       <td>81.076</td> <th>  Durbin-Watson:     </th> <td>   2.005</td>\n",
       "</tr>\n",
       "<tr>\n",
       "  <th>Prob(Omnibus):</th> <td> 0.000</td> <th>  Jarque-Bera (JB):  </th> <td>  79.921</td>\n",
       "</tr>\n",
       "<tr>\n",
       "  <th>Skew:</th>          <td> 0.152</td> <th>  Prob(JB):          </th> <td>4.42e-18</td>\n",
       "</tr>\n",
       "<tr>\n",
       "  <th>Kurtosis:</th>      <td> 2.864</td> <th>  Cond. No.          </th> <td>1.56e+04</td>\n",
       "</tr>\n",
       "</table><br/><br/>Notes:<br/>[1] Standard Errors assume that the covariance matrix of the errors is correctly specified.<br/>[2] The condition number is large, 1.56e+04. This might indicate that there are<br/>strong multicollinearity or other numerical problems."
      ],
      "text/plain": [
       "<class 'statsmodels.iolib.summary.Summary'>\n",
       "\"\"\"\n",
       "                            OLS Regression Results                            \n",
       "==============================================================================\n",
       "Dep. Variable:                  price   R-squared:                       0.528\n",
       "Model:                            OLS   Adj. R-squared:                  0.527\n",
       "Method:                 Least Squares   F-statistic:                     6430.\n",
       "Date:                Wed, 25 Aug 2021   Prob (F-statistic):               0.00\n",
       "Time:                        12:00:05   Log-Likelihood:                -6929.4\n",
       "No. Observations:               17277   AIC:                         1.387e+04\n",
       "Df Residuals:                   17273   BIC:                         1.390e+04\n",
       "Df Model:                           3                                         \n",
       "Covariance Type:            nonrobust                                         \n",
       "=================================================================================\n",
       "                    coef    std err          t      P>|t|      [0.025      0.975]\n",
       "---------------------------------------------------------------------------------\n",
       "Intercept        10.9305      0.020    544.238      0.000      10.891      10.970\n",
       "grade             0.2120      0.004     56.405      0.000       0.205       0.219\n",
       "bathrooms         0.0751      0.005     15.301      0.000       0.065       0.085\n",
       "sqft_living15     0.0002   5.84e-06     29.036      0.000       0.000       0.000\n",
       "==============================================================================\n",
       "Omnibus:                       81.076   Durbin-Watson:                   2.005\n",
       "Prob(Omnibus):                  0.000   Jarque-Bera (JB):               79.921\n",
       "Skew:                           0.152   Prob(JB):                     4.42e-18\n",
       "Kurtosis:                       2.864   Cond. No.                     1.56e+04\n",
       "==============================================================================\n",
       "\n",
       "Notes:\n",
       "[1] Standard Errors assume that the covariance matrix of the errors is correctly specified.\n",
       "[2] The condition number is large, 1.56e+04. This might indicate that there are\n",
       "strong multicollinearity or other numerical problems.\n",
       "\"\"\""
      ]
     },
     "execution_count": 43,
     "metadata": {},
     "output_type": "execute_result"
    }
   ],
   "source": [
    "m3 = smf.ols(formula=\"price ~ grade + bathrooms + sqft_living15\", data=new_df).fit()\n",
    "m3.summary()"
   ]
  },
  {
   "cell_type": "markdown",
   "id": "119d9c19",
   "metadata": {},
   "source": [
    "# Testing Model 1"
   ]
  },
  {
   "cell_type": "code",
   "execution_count": 44,
   "id": "6a8aa374",
   "metadata": {},
   "outputs": [],
   "source": [
    "X_train, X_test, y_train, y_test = train_test_split(new_df, new_df.price)\n",
    "tn, tt = train_test_split(new_df,test_size=.25,shuffle=True)"
   ]
  },
  {
   "cell_type": "code",
   "execution_count": 45,
   "id": "c8a50635",
   "metadata": {},
   "outputs": [],
   "source": [
    "tn_df = pd.DataFrame(X_train, y_train)\n",
    "tt_df = pd.DataFrame(X_test, y_test)"
   ]
  },
  {
   "cell_type": "code",
   "execution_count": 46,
   "id": "f77fd701",
   "metadata": {},
   "outputs": [
    {
     "data": {
      "text/plain": [
       "LinearRegression()"
      ]
     },
     "execution_count": 46,
     "metadata": {},
     "output_type": "execute_result"
    }
   ],
   "source": [
    "lreg = LinearRegression()\n",
    "lreg.fit(X_train, y_train)"
   ]
  },
  {
   "cell_type": "code",
   "execution_count": 47,
   "id": "f897164d",
   "metadata": {},
   "outputs": [],
   "source": [
    "y_tn = m1.predict(X_train)\n",
    "y_tt = m1.predict(X_test)"
   ]
  },
  {
   "cell_type": "code",
   "execution_count": 48,
   "id": "83a4904f",
   "metadata": {},
   "outputs": [
    {
     "name": "stdout",
     "output_type": "stream",
     "text": [
      "Mean Squared Error Train: 2.0705292624206674e-09\n",
      "Mean Squared Error Test: 1.8626141971981837e-08\n",
      "R-Squared Train:  0.5465596312737175\n",
      "R-Squared Test:  0.5577923560146321\n"
     ]
    }
   ],
   "source": [
    "train_mse = np.mean(y_train - y_tn)** 2\n",
    "test_mse = np.mean(y_test - y_tt)** 2\n",
    "\n",
    "tn_r2 = r2_score(tn['price'], m1.predict(tn))\n",
    "tt_r2 = r2_score(tt['price'], m1.predict(tt))\n",
    "\n",
    "print('Mean Squared Error Train:', train_mse)\n",
    "print('Mean Squared Error Test:', test_mse)\n",
    "print('R-Squared Train: ', tn_r2)\n",
    "print('R-Squared Test: ', tt_r2)"
   ]
  },
  {
   "cell_type": "markdown",
   "id": "0520dd7e",
   "metadata": {},
   "source": [
    "# Testing Model 2"
   ]
  },
  {
   "cell_type": "code",
   "execution_count": 49,
   "id": "9ec7d5f6",
   "metadata": {},
   "outputs": [],
   "source": [
    "X_train, X_test, y_train, y_test = train_test_split(new_df, new_df.price)\n",
    "tn, tt = train_test_split(new_df,test_size=.25,shuffle=True)"
   ]
  },
  {
   "cell_type": "code",
   "execution_count": 50,
   "id": "96575666",
   "metadata": {},
   "outputs": [],
   "source": [
    "tn_df = pd.DataFrame(X_train, y_train)\n",
    "tt_df = pd.DataFrame(X_test, y_test)"
   ]
  },
  {
   "cell_type": "code",
   "execution_count": 51,
   "id": "3109dc2e",
   "metadata": {},
   "outputs": [
    {
     "data": {
      "text/plain": [
       "LinearRegression()"
      ]
     },
     "execution_count": 51,
     "metadata": {},
     "output_type": "execute_result"
    }
   ],
   "source": [
    "lreg = LinearRegression()\n",
    "lreg.fit(X_train, y_train)"
   ]
  },
  {
   "cell_type": "code",
   "execution_count": 52,
   "id": "b1d5fc24",
   "metadata": {},
   "outputs": [],
   "source": [
    "y_tn = m2.predict(X_train)\n",
    "y_tt = m2.predict(X_test)"
   ]
  },
  {
   "cell_type": "code",
   "execution_count": 53,
   "id": "97806936",
   "metadata": {},
   "outputs": [
    {
     "name": "stdout",
     "output_type": "stream",
     "text": [
      "Mean Squared Error Train: 8.563794848520931e-08\n",
      "Mean Squared Error Test: 7.703847529151968e-07\n",
      "R-Squared Train:  0.544530229685283\n",
      "R-Squared Test:  0.5406695854738615\n"
     ]
    }
   ],
   "source": [
    "train_mse = np.mean(y_train - y_tn)**2\n",
    "test_mse = np.mean(y_test-y_tt)**2\n",
    "\n",
    "tn_r2 = r2_score(tn['price'], m2.predict(tn))\n",
    "tt_r2 = r2_score(tt['price'], m2.predict(tt))\n",
    "\n",
    "print('Mean Squared Error Train:', train_mse)\n",
    "print('Mean Squared Error Test:', test_mse)\n",
    "print('R-Squared Train: ', tn_r2)\n",
    "print('R-Squared Test: ', tt_r2)"
   ]
  },
  {
   "cell_type": "markdown",
   "id": "ad657db8",
   "metadata": {},
   "source": [
    "# Testing Model 3"
   ]
  },
  {
   "cell_type": "code",
   "execution_count": 54,
   "id": "82b44403",
   "metadata": {},
   "outputs": [],
   "source": [
    "X_train, X_test, y_train, y_test = train_test_split(new_df, new_df.price)\n",
    "tn, tt = train_test_split(new_df,test_size=.25,shuffle=True)"
   ]
  },
  {
   "cell_type": "code",
   "execution_count": 55,
   "id": "4027c463",
   "metadata": {},
   "outputs": [],
   "source": [
    "tn_df = pd.DataFrame(X_train, y_train)\n",
    "tt_df = pd.DataFrame(X_test, y_test)"
   ]
  },
  {
   "cell_type": "code",
   "execution_count": 56,
   "id": "35fcbc14",
   "metadata": {},
   "outputs": [
    {
     "data": {
      "text/plain": [
       "LinearRegression()"
      ]
     },
     "execution_count": 56,
     "metadata": {},
     "output_type": "execute_result"
    }
   ],
   "source": [
    "lreg = LinearRegression()\n",
    "lreg.fit(X_train, y_train)"
   ]
  },
  {
   "cell_type": "code",
   "execution_count": 57,
   "id": "a4eb2e6c",
   "metadata": {},
   "outputs": [],
   "source": [
    "y_tn = m1.predict(X_train)\n",
    "y_tt = m1.predict(X_test)"
   ]
  },
  {
   "cell_type": "code",
   "execution_count": 58,
   "id": "98684912",
   "metadata": {},
   "outputs": [
    {
     "name": "stdout",
     "output_type": "stream",
     "text": [
      "Mean Squared Error Train: 3.638277291657964e-07\n",
      "Mean Squared Error Test: 3.2729337252248935e-06\n",
      "R-Squared Train:  0.5269829046932551\n",
      "R-Squared Test:  0.5292202396897461\n"
     ]
    }
   ],
   "source": [
    "train_mse = np.mean(y_train - y_tn)**2\n",
    "test_mse = np.mean(y_test-y_tt)**2\n",
    "\n",
    "tn_r2 = r2_score(tn['price'], m3.predict(tn))\n",
    "tt_r2 = r2_score(tt['price'], m3.predict(tt))\n",
    "\n",
    "print('Mean Squared Error Train:', train_mse)\n",
    "print('Mean Squared Error Test:', test_mse)\n",
    "print('R-Squared Train: ', tn_r2)\n",
    "print('R-Squared Test: ', tt_r2)"
   ]
  }
 ],
 "metadata": {
  "kernelspec": {
   "display_name": "Python 3",
   "language": "python",
   "name": "python3"
  },
  "language_info": {
   "codemirror_mode": {
    "name": "ipython",
    "version": 3
   },
   "file_extension": ".py",
   "mimetype": "text/x-python",
   "name": "python",
   "nbconvert_exporter": "python",
   "pygments_lexer": "ipython3",
   "version": "3.8.10"
  }
 },
 "nbformat": 4,
 "nbformat_minor": 5
}
